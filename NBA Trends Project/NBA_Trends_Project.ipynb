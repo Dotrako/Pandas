{
 "cells": [
  {
   "cell_type": "markdown",
   "metadata": {},
   "source": [
    "# Codecademy [NBA Trends Project](https://www.codecademy.com/projects/practice/nba-trends)\n",
    "\n",
    "*Analyze National Basketball Association (NBA) data to look at associations between teams, win-rates, playoff appearances, and more.*"
   ]
  },
  {
   "cell_type": "markdown",
   "metadata": {},
   "source": [
    "In this project, you'll analyze data from the NBA (National Basketball Association) and explore possible associations. \n",
    "\n",
    "This data was originally sourced from 538's Analysis of the [Complete History Of The NBA](http://fivethirtyeight.com/interactives/the-complete-history-of-every-nba-team-by-elo) and contains the original, unmodified data from [Basketball Reference](http://www.basketball-reference.com/) as well as several additional variables 538 added to perform their own analysis. \n",
    "\n",
    "You can read more about the data and how it's being used by 538 [here](https://github.com/fivethirtyeight/data/tree/master/nba-elo). For this project we've limited the data to just 5 teams and 10 columns (plus one constructed column, `point_diff`, the difference between `pts` and `opp_pts`).\n",
    "\n",
    "You will create several charts and tables in this project, so you'll need to use `plt.clf()` between plots in your code so that the plots don't layer on top of one another.\n"
   ]
  },
  {
   "cell_type": "code",
   "execution_count": 1,
   "metadata": {},
   "outputs": [],
   "source": [
    "import pandas as pd\n",
    "import numpy as np\n",
    "from scipy.stats import pearsonr, chi2_contingency\n",
    "import matplotlib.pyplot as plt\n",
    "import seaborn as sns"
   ]
  },
  {
   "cell_type": "code",
   "execution_count": 2,
   "metadata": {},
   "outputs": [],
   "source": [
    "#to make the output look nicer\n",
    "np.set_printoptions(suppress=True, precision = 2)"
   ]
  },
  {
   "cell_type": "code",
   "execution_count": 3,
   "metadata": {},
   "outputs": [
    {
     "data": {
      "text/html": [
       "<div>\n",
       "<style scoped>\n",
       "    .dataframe tbody tr th:only-of-type {\n",
       "        vertical-align: middle;\n",
       "    }\n",
       "\n",
       "    .dataframe tbody tr th {\n",
       "        vertical-align: top;\n",
       "    }\n",
       "\n",
       "    .dataframe thead th {\n",
       "        text-align: right;\n",
       "    }\n",
       "</style>\n",
       "<table border=\"1\" class=\"dataframe\">\n",
       "  <thead>\n",
       "    <tr style=\"text-align: right;\">\n",
       "      <th></th>\n",
       "      <th>game_id</th>\n",
       "      <th>year_id</th>\n",
       "      <th>fran_id</th>\n",
       "      <th>opp_fran</th>\n",
       "      <th>game_location</th>\n",
       "      <th>is_playoffs</th>\n",
       "      <th>pts</th>\n",
       "      <th>opp_pts</th>\n",
       "      <th>game_result</th>\n",
       "      <th>forecast</th>\n",
       "      <th>point_diff</th>\n",
       "    </tr>\n",
       "  </thead>\n",
       "  <tbody>\n",
       "    <tr>\n",
       "      <th>0</th>\n",
       "      <td>194611010TRH</td>\n",
       "      <td>1947</td>\n",
       "      <td>Knicks</td>\n",
       "      <td>Huskies</td>\n",
       "      <td>A</td>\n",
       "      <td>0</td>\n",
       "      <td>68</td>\n",
       "      <td>66</td>\n",
       "      <td>W</td>\n",
       "      <td>0.359935</td>\n",
       "      <td>2</td>\n",
       "    </tr>\n",
       "    <tr>\n",
       "      <th>1</th>\n",
       "      <td>194611020CHS</td>\n",
       "      <td>1947</td>\n",
       "      <td>Knicks</td>\n",
       "      <td>Stags</td>\n",
       "      <td>A</td>\n",
       "      <td>0</td>\n",
       "      <td>47</td>\n",
       "      <td>63</td>\n",
       "      <td>L</td>\n",
       "      <td>0.368899</td>\n",
       "      <td>-16</td>\n",
       "    </tr>\n",
       "    <tr>\n",
       "      <th>2</th>\n",
       "      <td>194611020PRO</td>\n",
       "      <td>1947</td>\n",
       "      <td>Celtics</td>\n",
       "      <td>Steamrollers</td>\n",
       "      <td>A</td>\n",
       "      <td>0</td>\n",
       "      <td>53</td>\n",
       "      <td>59</td>\n",
       "      <td>L</td>\n",
       "      <td>0.359935</td>\n",
       "      <td>-6</td>\n",
       "    </tr>\n",
       "    <tr>\n",
       "      <th>3</th>\n",
       "      <td>194611050BOS</td>\n",
       "      <td>1947</td>\n",
       "      <td>Celtics</td>\n",
       "      <td>Stags</td>\n",
       "      <td>H</td>\n",
       "      <td>0</td>\n",
       "      <td>55</td>\n",
       "      <td>57</td>\n",
       "      <td>L</td>\n",
       "      <td>0.620204</td>\n",
       "      <td>-2</td>\n",
       "    </tr>\n",
       "    <tr>\n",
       "      <th>4</th>\n",
       "      <td>194611070STB</td>\n",
       "      <td>1947</td>\n",
       "      <td>Knicks</td>\n",
       "      <td>Bombers</td>\n",
       "      <td>A</td>\n",
       "      <td>0</td>\n",
       "      <td>68</td>\n",
       "      <td>63</td>\n",
       "      <td>W</td>\n",
       "      <td>0.339290</td>\n",
       "      <td>5</td>\n",
       "    </tr>\n",
       "  </tbody>\n",
       "</table>\n",
       "</div>"
      ],
      "text/plain": [
       "        game_id  year_id  fran_id      opp_fran game_location  is_playoffs  \\\n",
       "0  194611010TRH     1947   Knicks       Huskies             A            0   \n",
       "1  194611020CHS     1947   Knicks         Stags             A            0   \n",
       "2  194611020PRO     1947  Celtics  Steamrollers             A            0   \n",
       "3  194611050BOS     1947  Celtics         Stags             H            0   \n",
       "4  194611070STB     1947   Knicks       Bombers             A            0   \n",
       "\n",
       "   pts  opp_pts game_result  forecast  point_diff  \n",
       "0   68       66           W  0.359935           2  \n",
       "1   47       63           L  0.368899         -16  \n",
       "2   53       59           L  0.359935          -6  \n",
       "3   55       57           L  0.620204          -2  \n",
       "4   68       63           W  0.339290           5  "
      ]
     },
     "execution_count": 3,
     "metadata": {},
     "output_type": "execute_result"
    }
   ],
   "source": [
    "nba = pd.read_csv('nba_games.csv')\n",
    "nba.head()"
   ]
  },
  {
   "cell_type": "code",
   "execution_count": 5,
   "metadata": {},
   "outputs": [],
   "source": [
    "# Subset Data to 2010 Season, 2014 Season\n",
    "nba_2010 = nba[nba.year_id == 2010]\n",
    "nba_2014 = nba[nba.year_id == 2014]"
   ]
  },
  {
   "cell_type": "markdown",
   "metadata": {},
   "source": [
    "### Task 1\n",
    "The data has been subset for you into two smaller datasets: games from 2010 (named nba_2010) and games from 2014 (named nba_2014). To start, let’s focus on the 2010 data.\n",
    "\n",
    "Suppose you want to compare the knicks to the nets with respect to points earned per game. Using the pts column from the nba_2010 DataFrame, create two series named knicks_pts (fran_id = \"Knicks\") and nets_pts(fran_id = \"Nets\") that represent the points each team has scored in their games.\n"
   ]
  },
  {
   "cell_type": "code",
   "execution_count": 9,
   "metadata": {},
   "outputs": [
    {
     "name": "stdout",
     "output_type": "stream",
     "text": [
      "21717    False\n",
      "21718    False\n",
      "21719     True\n",
      "21720    False\n",
      "21721    False\n",
      "         ...  \n",
      "22162    False\n",
      "22163    False\n",
      "22164    False\n",
      "22165    False\n",
      "22166    False\n",
      "Name: fran_id, Length: 450, dtype: bool\n",
      "21717    False\n",
      "21718    False\n",
      "21719    False\n",
      "21720     True\n",
      "21721    False\n",
      "         ...  \n",
      "22162    False\n",
      "22163    False\n",
      "22164    False\n",
      "22165    False\n",
      "22166    False\n",
      "Name: fran_id, Length: 450, dtype: bool\n"
     ]
    }
   ],
   "source": [
    "knicks_pts_10 = nba_2010.fran_id == \"Knicks\"\n",
    "print(knicks_pts_10)\n",
    "nets_pts_10 = nba_2010.fran_id == \"Nets\"\n",
    "print(nets_pts_10)"
   ]
  },
  {
   "cell_type": "code",
   "execution_count": 10,
   "metadata": {},
   "outputs": [
    {
     "name": "stdout",
     "output_type": "stream",
     "text": [
      "21719     93\n",
      "21725    100\n",
      "21728    127\n",
      "21734    117\n",
      "21739     89\n",
      "        ... \n",
      "22102    105\n",
      "22110    103\n",
      "22116     98\n",
      "22118    114\n",
      "22126    113\n",
      "Name: pts, Length: 82, dtype: int64\n",
      "21720     93\n",
      "21727     85\n",
      "21730    104\n",
      "21733     68\n",
      "21738     94\n",
      "        ... \n",
      "22103     89\n",
      "22108    127\n",
      "22113    102\n",
      "22117     95\n",
      "22124     86\n",
      "Name: pts, Length: 82, dtype: int64\n"
     ]
    }
   ],
   "source": [
    "knicks_pts_10 = nba_2010.pts[nba.fran_id=='Knicks']\n",
    "print(knicks_pts_10)\n",
    "nets_pts_10 = nba_2010.pts[nba.fran_id=='Nets']\n",
    "print(nets_pts_10)"
   ]
  },
  {
   "cell_type": "markdown",
   "metadata": {},
   "source": [
    "### Task 2\n",
    "\n",
    "Calculate the difference between the two teams’ average points scored and save the result as diff_means_2010. Based on this value, do you think fran_id and pts are associated? Why or why not?\n"
   ]
  },
  {
   "cell_type": "code",
   "execution_count": 15,
   "metadata": {},
   "outputs": [
    {
     "name": "stdout",
     "output_type": "stream",
     "text": [
      "102.10975609756098\n",
      "92.3780487804878\n",
      "The diff means of 2010 is 9.731707317073173\n"
     ]
    }
   ],
   "source": [
    "knicks_mean_score = np.mean(knicks_pts_10)\n",
    "print(knicks_mean_score)\n",
    "nets_mean_score = np.mean(nets_pts_10)\n",
    "print(nets_mean_score)\n",
    "diff_means_2010 = knicks_mean_score - nets_mean_score\n",
    "print(f\"The diff means of 2010 is {diff_means_2010}\")"
   ]
  },
  {
   "cell_type": "markdown",
   "metadata": {},
   "source": [
    "### Task 3\n",
    "Rather than comparing means, it’s useful look at the full distribution of values to understand whether a difference in means is meaningful. Create a set of overlapping histograms that can be used to compare the points scored for the Knicks compared to the Nets. Use the series you created in the previous step (1) and the code below to create the plot. Do the distributions appear to be the same?\n"
   ]
  },
  {
   "cell_type": "code",
   "execution_count": 20,
   "metadata": {},
   "outputs": [
    {
     "data": {
      "image/png": "[encoded data removed]",
      "text/plain": [
       "<Figure size 640x480 with 1 Axes>"
      ]
     },
     "metadata": {},
     "output_type": "display_data"
    }
   ],
   "source": [
    "import matplotlib.pyplot as plt\n",
    "\n",
    "plt.hist(knicks_pts_10, alpha=0.8, density=True, label='knicks')\n",
    "plt.hist(nets_pts_10, alpha=0.8, density=True, label='nets')\n",
    "plt.legend()\n",
    "plt.title(\"2010 Season\")\n",
    "plt.show()"
   ]
  },
  {
   "cell_type": "markdown",
   "metadata": {},
   "source": [
    "### Task 4\n",
    "Now, let’s compare the 2010 games to 2014. Replicate the steps from Tasks 2 and 3 using `nba_2014`. First, calculate the mean difference between the two teams points scored. Save and print the value as `diff_means_2014`. Did the difference in points get larger or smaller in 2014? Then, plot the overlapping histograms. Does the mean difference you calculated make sense?\n"
   ]
  },
  {
   "cell_type": "code",
   "execution_count": 21,
   "metadata": {},
   "outputs": [
    {
     "data": {
      "text/html": [
       "<div>\n",
       "<style scoped>\n",
       "    .dataframe tbody tr th:only-of-type {\n",
       "        vertical-align: middle;\n",
       "    }\n",
       "\n",
       "    .dataframe tbody tr th {\n",
       "        vertical-align: top;\n",
       "    }\n",
       "\n",
       "    .dataframe thead th {\n",
       "        text-align: right;\n",
       "    }\n",
       "</style>\n",
       "<table border=\"1\" class=\"dataframe\">\n",
       "  <thead>\n",
       "    <tr style=\"text-align: right;\">\n",
       "      <th></th>\n",
       "      <th>game_id</th>\n",
       "      <th>year_id</th>\n",
       "      <th>fran_id</th>\n",
       "      <th>opp_fran</th>\n",
       "      <th>game_location</th>\n",
       "      <th>is_playoffs</th>\n",
       "      <th>pts</th>\n",
       "      <th>opp_pts</th>\n",
       "      <th>game_result</th>\n",
       "      <th>forecast</th>\n",
       "      <th>point_diff</th>\n",
       "    </tr>\n",
       "  </thead>\n",
       "  <tbody>\n",
       "    <tr>\n",
       "      <th>23468</th>\n",
       "      <td>201310300CLE</td>\n",
       "      <td>2014</td>\n",
       "      <td>Nets</td>\n",
       "      <td>Cavaliers</td>\n",
       "      <td>A</td>\n",
       "      <td>0</td>\n",
       "      <td>94</td>\n",
       "      <td>98</td>\n",
       "      <td>L</td>\n",
       "      <td>0.611981</td>\n",
       "      <td>-4</td>\n",
       "    </tr>\n",
       "    <tr>\n",
       "      <th>23469</th>\n",
       "      <td>201310300NYK</td>\n",
       "      <td>2014</td>\n",
       "      <td>Knicks</td>\n",
       "      <td>Bucks</td>\n",
       "      <td>H</td>\n",
       "      <td>0</td>\n",
       "      <td>90</td>\n",
       "      <td>83</td>\n",
       "      <td>W</td>\n",
       "      <td>0.793150</td>\n",
       "      <td>7</td>\n",
       "    </tr>\n",
       "    <tr>\n",
       "      <th>23470</th>\n",
       "      <td>201310300SAS</td>\n",
       "      <td>2014</td>\n",
       "      <td>Spurs</td>\n",
       "      <td>Grizzlies</td>\n",
       "      <td>H</td>\n",
       "      <td>0</td>\n",
       "      <td>101</td>\n",
       "      <td>94</td>\n",
       "      <td>W</td>\n",
       "      <td>0.692980</td>\n",
       "      <td>7</td>\n",
       "    </tr>\n",
       "    <tr>\n",
       "      <th>23471</th>\n",
       "      <td>201310300TOR</td>\n",
       "      <td>2014</td>\n",
       "      <td>Celtics</td>\n",
       "      <td>Raptors</td>\n",
       "      <td>A</td>\n",
       "      <td>0</td>\n",
       "      <td>87</td>\n",
       "      <td>93</td>\n",
       "      <td>L</td>\n",
       "      <td>0.361233</td>\n",
       "      <td>-6</td>\n",
       "    </tr>\n",
       "    <tr>\n",
       "      <th>23472</th>\n",
       "      <td>201310300UTA</td>\n",
       "      <td>2014</td>\n",
       "      <td>Thunder</td>\n",
       "      <td>Jazz</td>\n",
       "      <td>A</td>\n",
       "      <td>0</td>\n",
       "      <td>101</td>\n",
       "      <td>98</td>\n",
       "      <td>W</td>\n",
       "      <td>0.526056</td>\n",
       "      <td>3</td>\n",
       "    </tr>\n",
       "  </tbody>\n",
       "</table>\n",
       "</div>"
      ],
      "text/plain": [
       "            game_id  year_id  fran_id   opp_fran game_location  is_playoffs  \\\n",
       "23468  201310300CLE     2014     Nets  Cavaliers             A            0   \n",
       "23469  201310300NYK     2014   Knicks      Bucks             H            0   \n",
       "23470  201310300SAS     2014    Spurs  Grizzlies             H            0   \n",
       "23471  201310300TOR     2014  Celtics    Raptors             A            0   \n",
       "23472  201310300UTA     2014  Thunder       Jazz             A            0   \n",
       "\n",
       "       pts  opp_pts game_result  forecast  point_diff  \n",
       "23468   94       98           L  0.611981          -4  \n",
       "23469   90       83           W  0.793150           7  \n",
       "23470  101       94           W  0.692980           7  \n",
       "23471   87       93           L  0.361233          -6  \n",
       "23472  101       98           W  0.526056           3  "
      ]
     },
     "execution_count": 21,
     "metadata": {},
     "output_type": "execute_result"
    }
   ],
   "source": [
    "nba_2014.head()"
   ]
  },
  {
   "cell_type": "code",
   "execution_count": 31,
   "metadata": {},
   "outputs": [
    {
     "name": "stdout",
     "output_type": "stream",
     "text": [
      "23469     90\n",
      "23473     81\n",
      "23480    100\n",
      "23486     97\n",
      "23490    101\n",
      "        ... \n",
      "23849     91\n",
      "23863    108\n",
      "23867    100\n",
      "23871    109\n",
      "23875     95\n",
      "Name: pts, Length: 82, dtype: int64\n",
      "23468     94\n",
      "23475    101\n",
      "23482     86\n",
      "23484    104\n",
      "23494    108\n",
      "        ... \n",
      "23900     86\n",
      "23903     82\n",
      "23906    104\n",
      "23909     96\n",
      "23912     94\n",
      "Name: pts, Length: 94, dtype: int64\n"
     ]
    }
   ],
   "source": [
    "knicks_pts_2014 = nba_2014.pts[nba_2014[\"fran_id\"] == \"Knicks\"]\n",
    "print(knicks_pts_2014)\n",
    "nets_pts_2014 = nba_2014.pts[nba_2014.fran_id == 'Nets']\n",
    "print(nets_pts_2014)"
   ]
  },
  {
   "cell_type": "code",
   "execution_count": 37,
   "metadata": {},
   "outputs": [
    {
     "name": "stdout",
     "output_type": "stream",
     "text": [
      "98.58536585365853\n",
      "98.13829787234043\n",
      "0.44706798131809933\n"
     ]
    }
   ],
   "source": [
    "knicks_avg_pts_2014 = knicks_pts_2014.mean() \n",
    "print(knicks_avg_pts_2014)\n",
    "nets_avg_pts_2014 = nets_pts_2014.mean() \n",
    "print(nets_avg_pts_2014)\n",
    "diff_means_2014 = knicks_avg_pts_2014 - nets_avg_pts_2014\n",
    "print(diff_means_2014)"
   ]
  },
  {
   "cell_type": "code",
   "execution_count": 41,
   "metadata": {},
   "outputs": [
    {
     "data": {
      "image/png": "[encoded data removed]",
      "text/plain": [
       "<Figure size 640x480 with 1 Axes>"
      ]
     },
     "metadata": {},
     "output_type": "display_data"
    }
   ],
   "source": [
    "plt.hist(knicks_pts_2014, alpha=0.8, density=True, label= 'knicks')\n",
    "plt.hist(nets_pts_2014, alpha=0.8, density=True, label= 'nets')\n",
    "plt.legend()\n",
    "plt.title(\"2014 Season\")\n",
    "plt.show()"
   ]
  },
  {
   "cell_type": "markdown",
   "metadata": {},
   "source": [
    "### Task 5\n",
    "For the remainder of this project, we’ll focus on data from 2010. Let’s now include all teams in the dataset and investigate the relationship between franchise and points scored per game.\n",
    "\n",
    "Using nba_2010, generate side-by-side boxplots with points scored (pts) on the y-axis and team (fran_id) on the x-axis. Is there any overlap between the boxes? Does this chart suggest that fran_id and pts are associated? Which pairs of teams, if any, earn different average scores per game?\n"
   ]
  },
  {
   "cell_type": "code",
   "execution_count": null,
   "metadata": {},
   "outputs": [],
   "source": []
  },
  {
   "cell_type": "markdown",
   "metadata": {},
   "source": [
    "### Task 6\n",
    "We'd like to know if teams tend to win more games at home compared to away.\n",
    "\n",
    "The variable, `game_result`, indicates whether a team won a particular game ('W' stands for “win” and 'L' stands for “loss”). The variable, `game_location`, indicates whether a team was playing at home or away ('H' stands for “home” and 'A' stands for “away”). \n",
    "\n",
    "Data scientists will often calculate a contingency table of frequencies to help them determine if categorical variables are associated. Calculate a table of frequencies that shows the counts of game_result and game_location.\n",
    "\n",
    "Save your result as `location_result_freq` and print your result. Based on this table, do you think the variables are associated?`\n"
   ]
  },
  {
   "cell_type": "code",
   "execution_count": null,
   "metadata": {},
   "outputs": [],
   "source": []
  },
  {
   "cell_type": "markdown",
   "metadata": {},
   "source": [
    "### Task 7\n",
    "\n",
    "Convert this table of frequencies to a table of proportions and save the result as `location_result_proportions`."
   ]
  },
  {
   "cell_type": "code",
   "execution_count": null,
   "metadata": {},
   "outputs": [],
   "source": []
  },
  {
   "cell_type": "markdown",
   "metadata": {},
   "source": [
    "### Task 8\n",
    "Using the contingency table created above (Task 6), calculate the expected contingency table (if there were no association) and the Chi-Square statistic.\n",
    "\n",
    "Does the actual contingency table look similar to the expected table — or different? Based on this output, do you think there is an association between these variables?\n"
   ]
  },
  {
   "cell_type": "code",
   "execution_count": null,
   "metadata": {},
   "outputs": [],
   "source": []
  },
  {
   "cell_type": "markdown",
   "metadata": {},
   "source": [
    "*For a 2x2 table, Chi-squared greater than about 4 indicates an association. We're not there*"
   ]
  },
  {
   "cell_type": "markdown",
   "metadata": {},
   "source": [
    "### Task 9\n",
    "\n",
    "For each game, 538 has calculated the probability that each team will win the game. We want to know if teams with a higher probability of winning (according to 538) also tend to win games by more points. \n",
    "\n",
    "In the data, 538's prediction is saved as `forecast`. The `point_diff` column gives the margin of victory/defeat for each team (positive values mean that the team won; negative values mean that they lost). \n",
    "\n",
    "Using `nba_2010`, calculate the covariance between `forecast` (538's projected win probability) and `point_diff` (the margin of victory/defeat) in the dataset. Save and print your result. Looking at the matrix, what is the covariance between these two variables?\n"
   ]
  },
  {
   "cell_type": "code",
   "execution_count": null,
   "metadata": {},
   "outputs": [],
   "source": []
  },
  {
   "cell_type": "markdown",
   "metadata": {},
   "source": [
    "### Task 10\n",
    "\n",
    "Because 538’s forecast variable is reported as a probability (not a binary), we can calculate the strength of the correlation.\n",
    "\n",
    "Using nba_2010, calculate the correlation between `forecast` and `point_diff`. Call this `point_diff_forecast_corr`. Save and print your result. Does this value suggest an association between the two variables?\n"
   ]
  },
  {
   "cell_type": "code",
   "execution_count": null,
   "metadata": {},
   "outputs": [],
   "source": []
  },
  {
   "cell_type": "markdown",
   "metadata": {},
   "source": [
    "### Task 11\n",
    "\n",
    "Generate a scatter plot of `forecast` (on the x-axis) and `point_diff` (on the y-axis). Does the correlation value make sense?"
   ]
  },
  {
   "cell_type": "code",
   "execution_count": null,
   "metadata": {},
   "outputs": [],
   "source": []
  },
  {
   "cell_type": "code",
   "execution_count": null,
   "metadata": {},
   "outputs": [],
   "source": []
  }
 ],
 "metadata": {
  "kernelspec": {
   "display_name": "Python 3",
   "language": "python",
   "name": "python3"
  },
  "language_info": {
   "codemirror_mode": {
    "name": "ipython",
    "version": 3
   },
   "file_extension": ".py",
   "mimetype": "text/x-python",
   "name": "python",
   "nbconvert_exporter": "python",
   "pygments_lexer": "ipython3",
   "version": "3.12.0"
  }
 },
 "nbformat": 4,
 "nbformat_minor": 4
}
