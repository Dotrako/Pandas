{
 "cells": [
  {
   "cell_type": "markdown",
   "metadata": {},
   "source": [
    "# Lambda Functions"
   ]
  },
  {
   "cell_type": "markdown",
   "metadata": {},
   "source": [
    "#### - lambda function is a one-line shorthand for function. A simple lambda function might look like this:"
   ]
  },
  {
   "cell_type": "code",
   "execution_count": 131,
   "metadata": {},
   "outputs": [],
   "source": [
    "add_two = lambda my_input: my_input + 2"
   ]
  },
  {
   "cell_type": "code",
   "execution_count": 132,
   "metadata": {},
   "outputs": [
    {
     "name": "stdout",
     "output_type": "stream",
     "text": [
      "5\n",
      "102\n",
      "0\n"
     ]
    }
   ],
   "source": [
    "print(add_two(3))\n",
    "print(add_two(100))\n",
    "print(add_two(-2))"
   ]
  },
  {
   "cell_type": "markdown",
   "metadata": {},
   "source": [
    " - Let’s write a lambda function that checks if a string is a substring of the string "
   ]
  },
  {
   "cell_type": "code",
   "execution_count": 133,
   "metadata": {},
   "outputs": [],
   "source": [
    "is_substring = lambda my_string: my_string in \"This is the master string\""
   ]
  },
  {
   "cell_type": "code",
   "execution_count": 134,
   "metadata": {},
   "outputs": [
    {
     "name": "stdout",
     "output_type": "stream",
     "text": [
      "False\n",
      "False\n",
      "True\n",
      "True\n"
     ]
    }
   ],
   "source": [
    "print(is_substring('I'))\n",
    "print(is_substring('am'))\n",
    "print(is_substring('the'))\n",
    "print(is_substring('master'))"
   ]
  },
  {
   "cell_type": "markdown",
   "metadata": {},
   "source": [
    "- lets create a lambdas function that check A grades students called check_if_A_grade"
   ]
  },
  {
   "cell_type": "code",
   "execution_count": 135,
   "metadata": {},
   "outputs": [],
   "source": [
    "allan = 92\n",
    "sara = 75\n",
    "adam = 55"
   ]
  },
  {
   "cell_type": "code",
   "execution_count": 136,
   "metadata": {},
   "outputs": [],
   "source": [
    "check_if_grade = lambda student_grade : \"Got an A!\" if student_grade >= 90 else \"Did not get A!\""
   ]
  },
  {
   "cell_type": "code",
   "execution_count": 137,
   "metadata": {},
   "outputs": [
    {
     "name": "stdout",
     "output_type": "stream",
     "text": [
      "Got an A!\n",
      "Did not get A!\n",
      "Did not get A!\n"
     ]
    }
   ],
   "source": [
    "print(check_if_grade(allan))\n",
    "print(check_if_grade(sara))\n",
    "print(check_if_grade(adam))"
   ]
  },
  {
   "cell_type": "code",
   "execution_count": 138,
   "metadata": {},
   "outputs": [
    {
     "name": "stdout",
     "output_type": "stream",
     "text": [
      "True\n",
      "True\n",
      "False\n"
     ]
    }
   ],
   "source": [
    "contains_a = lambda word : \"a\" in word\n",
    "print(contains_a(\"banana\"))\n",
    "print(contains_a(\"apple\"))\n",
    "print(contains_a(\"cherry\"))"
   ]
  },
  {
   "cell_type": "markdown",
   "metadata": {},
   "source": [
    "- Lets create a lambdas function that check if a string has more than 12 charcters"
   ]
  },
  {
   "cell_type": "code",
   "execution_count": 139,
   "metadata": {},
   "outputs": [
    {
     "name": "stdout",
     "output_type": "stream",
     "text": [
      "False\n",
      "Has over 12 characters!\n"
     ]
    }
   ],
   "source": [
    "long_string = lambda my_input : \"Has over 12 characters!\" if len(my_input) > 12 else False  \n",
    "\n",
    "print(long_string(\"short\"))\n",
    "print(long_string(\"photosynthesis\"))"
   ]
  },
  {
   "cell_type": "markdown",
   "metadata": {},
   "source": [
    "- Accessing any item of our string using index"
   ]
  },
  {
   "cell_type": "code",
   "execution_count": 140,
   "metadata": {},
   "outputs": [
    {
     "name": "stdout",
     "output_type": "stream",
     "text": [
      "W\n",
      "o\n",
      "w\n"
     ]
    }
   ],
   "source": [
    "my_string = \"Whoa! A seesaw\"\n",
    "print(my_string[0])\n",
    "print(my_string[2])\n",
    "print(my_string[-1])"
   ]
  },
  {
   "cell_type": "markdown",
   "metadata": {},
   "source": [
    "- Lets create a lambda function named ends_in_a that takes an input str and returns True if the last character in the string is an a. Otherwise, return False."
   ]
  },
  {
   "cell_type": "code",
   "execution_count": 141,
   "metadata": {},
   "outputs": [
    {
     "name": "stdout",
     "output_type": "stream",
     "text": [
      "Has an a in the last charcter\n",
      "False\n"
     ]
    }
   ],
   "source": [
    "ends_in_a = lambda my_input: \"Has an a in the last charcter\" if my_input[-1] == \"a\" else False\n",
    "\n",
    "print(ends_in_a(\"data\"))\n",
    "print(ends_in_a(\"aardvark\"))"
   ]
  },
  {
   "cell_type": "markdown",
   "metadata": {},
   "source": [
    "- Lets create a lambda function named double_or_zero that takes an integer named num. If num is greater than 10, return double num. Otherwise, return 0."
   ]
  },
  {
   "cell_type": "code",
   "execution_count": 142,
   "metadata": {},
   "outputs": [
    {
     "name": "stdout",
     "output_type": "stream",
     "text": [
      "30\n",
      "0\n"
     ]
    }
   ],
   "source": [
    "double_or_zero = lambda num: num*2 if num > 10 else 0\n",
    "print(double_or_zero(15))\n",
    "print(double_or_zero(5))"
   ]
  },
  {
   "cell_type": "markdown",
   "metadata": {},
   "source": [
    "- Lets create a lambda function named even_or_odd that takes an integer named num. If num is even, return \"even\". If num is odd, return \"odd\"."
   ]
  },
  {
   "cell_type": "code",
   "execution_count": 143,
   "metadata": {},
   "outputs": [
    {
     "name": "stdout",
     "output_type": "stream",
     "text": [
      "even\n",
      "odd\n"
     ]
    }
   ],
   "source": [
    "even_or_odd = lambda num: \"even\" if num%2 == 0 else \"odd\"\n",
    "\n",
    "print(even_or_odd(10))\n",
    "print(even_or_odd(5))\n"
   ]
  },
  {
   "cell_type": "markdown",
   "metadata": {},
   "source": [
    "- Lets create a lambda function named multiple_of_three that takes an integer named num. If num is a multiple of three, return \"multiple of three\". Otherwise, return \"not a multiple\"."
   ]
  },
  {
   "cell_type": "code",
   "execution_count": 144,
   "metadata": {},
   "outputs": [
    {
     "name": "stdout",
     "output_type": "stream",
     "text": [
      "multiple of three\n",
      "not a multiple\n"
     ]
    }
   ],
   "source": [
    "multiple_of_three = lambda num : \"multiple of three\" if num % 3 == 0 else \"not a multiple\"\n",
    "print(multiple_of_three(9))\n",
    "print(multiple_of_three(10))"
   ]
  },
  {
   "cell_type": "markdown",
   "metadata": {},
   "source": [
    "-  Lets create a lambda function named rate_movie that takes a number named rating. If rating is greater than 8.5, return \"I liked this movie\". Otherwise return \"This movie was not very good\"."
   ]
  },
  {
   "cell_type": "code",
   "execution_count": 145,
   "metadata": {},
   "outputs": [
    {
     "name": "stdout",
     "output_type": "stream",
     "text": [
      "I liked this movie\n",
      "This movie was not very good\n"
     ]
    }
   ],
   "source": [
    "rate_movie = lambda rating : \"I liked this movie\" if rating > 8.5 else \"This movie was not very good\"\n",
    "\n",
    "print(rate_movie(9.2))\n",
    "print(rate_movie(7.2))"
   ]
  },
  {
   "cell_type": "markdown",
   "metadata": {},
   "source": [
    "- let's create a lambda function named ones_place that returns the ones’ place of the input num."
   ]
  },
  {
   "cell_type": "code",
   "execution_count": 146,
   "metadata": {},
   "outputs": [
    {
     "name": "stdout",
     "output_type": "stream",
     "text": [
      "3\n",
      "4\n"
     ]
    }
   ],
   "source": [
    "ones_place = lambda num : num%10 \n",
    "\n",
    "print(ones_place(123))\n",
    "print(ones_place(4))"
   ]
  },
  {
   "cell_type": "markdown",
   "metadata": {},
   "source": [
    "- lets create a lambda function named double_square that takes an input named num. The function should return twice the square of num."
   ]
  },
  {
   "cell_type": "code",
   "execution_count": 147,
   "metadata": {},
   "outputs": [
    {
     "name": "stdout",
     "output_type": "stream",
     "text": [
      "50\n",
      "18\n"
     ]
    }
   ],
   "source": [
    "double_square = lambda num: num**2*2\n",
    "\n",
    "print(double_square(5))\n",
    "print(double_square(3))"
   ]
  },
  {
   "cell_type": "markdown",
   "metadata": {},
   "source": [
    "- lets create a lambda function named add_random that takes an input named num. The function should return num plus a random integer number between 1 and 10 (inclusive)."
   ]
  },
  {
   "cell_type": "code",
   "execution_count": 148,
   "metadata": {},
   "outputs": [
    {
     "name": "stdout",
     "output_type": "stream",
     "text": [
      "12\n",
      "106\n"
     ]
    }
   ],
   "source": [
    "import random\n",
    "#Write your lambda function here\n",
    "add_random = lambda num: num + random.randint(1,10)\n",
    "print(add_random(5))\n",
    "print(add_random(100))"
   ]
  }
 ],
 "metadata": {
  "kernelspec": {
   "display_name": "Python 3",
   "language": "python",
   "name": "python3"
  },
  "language_info": {
   "codemirror_mode": {
    "name": "ipython",
    "version": 3
   },
   "file_extension": ".py",
   "mimetype": "text/x-python",
   "name": "python",
   "nbconvert_exporter": "python",
   "pygments_lexer": "ipython3",
   "version": "3.12.0"
  }
 },
 "nbformat": 4,
 "nbformat_minor": 2
}
