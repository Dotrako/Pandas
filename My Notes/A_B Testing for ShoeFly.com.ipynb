{
 "cells": [
  {
   "cell_type": "markdown",
   "metadata": {},
   "source": [
    "# A/B Testing for ShoeFly.com"
   ]
  },
  {
   "cell_type": "markdown",
   "metadata": {},
   "source": [
    "##### ShoeFly.com is performing an A/B Test. They have two different versions of an ad, which they have placed in emails, as well as in banner ads on Facebook, Twitter, and Google. They want to know how the two ads are performing on each of the different platforms on each day of the week. let's help them analyze the data using aggregate measures."
   ]
  },
  {
   "cell_type": "markdown",
   "metadata": {},
   "source": [
    "- lets import all the necessary libraries"
   ]
  },
  {
   "cell_type": "code",
   "execution_count": 37,
   "metadata": {},
   "outputs": [],
   "source": [
    "import pandas as pd\n",
    "import numpy as np\n",
    "import csv "
   ]
  },
  {
   "cell_type": "markdown",
   "metadata": {},
   "source": [
    "- Let's upload our csv file"
   ]
  },
  {
   "cell_type": "code",
   "execution_count": 38,
   "metadata": {},
   "outputs": [],
   "source": [
    "ad_clicks = pd.read_csv(\"Shoe_fly_data.csv\")"
   ]
  },
  {
   "cell_type": "markdown",
   "metadata": {},
   "source": [
    "- let's create our dataframe df"
   ]
  },
  {
   "cell_type": "code",
   "execution_count": 39,
   "metadata": {},
   "outputs": [
    {
     "name": "stdout",
     "output_type": "stream",
     "text": [
      "                                   user_id utm_source            day  \\\n",
      "0     008b7c6c-7272-471e-b90e-930d548bd8d7     google   6 - Saturday   \n",
      "1     009abb94-5e14-4b6c-bb1c-4f4df7aa7557   facebook     7 - Sunday   \n",
      "2     00f5d532-ed58-4570-b6d2-768df5f41aed    twitter    2 - Tuesday   \n",
      "3     011adc64-0f44-4fd9-a0bb-f1506d2ad439     google    2 - Tuesday   \n",
      "4     012137e6-7ae7-4649-af68-205b4702169c   facebook     7 - Sunday   \n",
      "...                                    ...        ...            ...   \n",
      "1649  fe8b5236-78f6-4192-9da6-a76bba67cfe6    twitter     7 - Sunday   \n",
      "1650  fed3db6d-8c92-40e3-a4fb-1fb9d7337eb1   facebook     5 - Friday   \n",
      "1651  ff3a22ff-521c-478c-87ca-7dc7b8f34372    twitter  3 - Wednesday   \n",
      "1652  ff3af0d6-b092-4c4d-9f2e-2bdd8f7c0732     google     1 - Monday   \n",
      "1653  ffdfe7ec-0c74-4623-8d90-d95d80f1ba34   facebook   6 - Saturday   \n",
      "\n",
      "     ad_click_timestamp experimental_group  \n",
      "0                 07:18                  A  \n",
      "1                   NaN                  B  \n",
      "2                   NaN                  A  \n",
      "3                   NaN                  B  \n",
      "4                   NaN                  B  \n",
      "...                 ...                ...  \n",
      "1649                NaN                  A  \n",
      "1650                NaN                  B  \n",
      "1651                NaN                  B  \n",
      "1652              22:57                  A  \n",
      "1653                NaN                  B  \n",
      "\n",
      "[1654 rows x 5 columns]\n"
     ]
    }
   ],
   "source": [
    "df = pd.DataFrame(ad_clicks)\n",
    "print(df)"
   ]
  },
  {
   "cell_type": "markdown",
   "metadata": {},
   "source": [
    "- let's examine the top 5 rows of our DataFrame"
   ]
  },
  {
   "cell_type": "code",
   "execution_count": 40,
   "metadata": {},
   "outputs": [
    {
     "name": "stdout",
     "output_type": "stream",
     "text": [
      "                                user_id utm_source           day  \\\n",
      "0  008b7c6c-7272-471e-b90e-930d548bd8d7     google  6 - Saturday   \n",
      "1  009abb94-5e14-4b6c-bb1c-4f4df7aa7557   facebook    7 - Sunday   \n",
      "2  00f5d532-ed58-4570-b6d2-768df5f41aed    twitter   2 - Tuesday   \n",
      "3  011adc64-0f44-4fd9-a0bb-f1506d2ad439     google   2 - Tuesday   \n",
      "4  012137e6-7ae7-4649-af68-205b4702169c   facebook    7 - Sunday   \n",
      "\n",
      "  ad_click_timestamp experimental_group  \n",
      "0              07:18                  A  \n",
      "1                NaN                  B  \n",
      "2                NaN                  A  \n",
      "3                NaN                  B  \n",
      "4                NaN                  B  \n"
     ]
    }
   ],
   "source": [
    "print(df.head())"
   ]
  },
  {
   "cell_type": "markdown",
   "metadata": {},
   "source": [
    "- The manager wants to know which ad platform is getting you the most views."
   ]
  },
  {
   "cell_type": "code",
   "execution_count": 41,
   "metadata": {},
   "outputs": [
    {
     "name": "stdout",
     "output_type": "stream",
     "text": [
      "             day  utm_source\n",
      "0     1 - Monday         226\n",
      "1    2 - Tuesday         238\n",
      "2  3 - Wednesday         248\n",
      "3   4 - Thursday         232\n",
      "4     5 - Friday         256\n",
      "5   6 - Saturday         236\n",
      "6     7 - Sunday         218\n"
     ]
    }
   ],
   "source": [
    "plateform_views = df.groupby(\"day\").utm_source.count().reset_index()\n",
    "print(plateform_views)"
   ]
  },
  {
   "cell_type": "markdown",
   "metadata": {},
   "source": [
    "- google has the biggest count of user in social media plateforms"
   ]
  },
  {
   "cell_type": "markdown",
   "metadata": {},
   "source": [
    "- lets create a new column regrouping the not null in ad_click_timestamp"
   ]
  },
  {
   "cell_type": "code",
   "execution_count": 42,
   "metadata": {},
   "outputs": [
    {
     "name": "stdout",
     "output_type": "stream",
     "text": [
      "                                   user_id utm_source            day  \\\n",
      "0     008b7c6c-7272-471e-b90e-930d548bd8d7     google   6 - Saturday   \n",
      "1     009abb94-5e14-4b6c-bb1c-4f4df7aa7557   facebook     7 - Sunday   \n",
      "2     00f5d532-ed58-4570-b6d2-768df5f41aed    twitter    2 - Tuesday   \n",
      "3     011adc64-0f44-4fd9-a0bb-f1506d2ad439     google    2 - Tuesday   \n",
      "4     012137e6-7ae7-4649-af68-205b4702169c   facebook     7 - Sunday   \n",
      "...                                    ...        ...            ...   \n",
      "1649  fe8b5236-78f6-4192-9da6-a76bba67cfe6    twitter     7 - Sunday   \n",
      "1650  fed3db6d-8c92-40e3-a4fb-1fb9d7337eb1   facebook     5 - Friday   \n",
      "1651  ff3a22ff-521c-478c-87ca-7dc7b8f34372    twitter  3 - Wednesday   \n",
      "1652  ff3af0d6-b092-4c4d-9f2e-2bdd8f7c0732     google     1 - Monday   \n",
      "1653  ffdfe7ec-0c74-4623-8d90-d95d80f1ba34   facebook   6 - Saturday   \n",
      "\n",
      "     ad_click_timestamp experimental_group  is_click  \n",
      "0                 07:18                  A     False  \n",
      "1                   NaN                  B     False  \n",
      "2                   NaN                  A     False  \n",
      "3                   NaN                  B     False  \n",
      "4                   NaN                  B     False  \n",
      "...                 ...                ...       ...  \n",
      "1649                NaN                  A     False  \n",
      "1650                NaN                  B     False  \n",
      "1651                NaN                  B     False  \n",
      "1652              22:57                  A     False  \n",
      "1653                NaN                  B     False  \n",
      "\n",
      "[1654 rows x 6 columns]\n"
     ]
    }
   ],
   "source": [
    "df[\"is_click\"] = df.experimental_group.isnull()\n",
    "print(df)"
   ]
  },
  {
   "cell_type": "markdown",
   "metadata": {},
   "source": [
    "- let's add a column named is_click to show the person who really clocked on the ad"
   ]
  },
  {
   "cell_type": "code",
   "execution_count": 43,
   "metadata": {},
   "outputs": [
    {
     "name": "stdout",
     "output_type": "stream",
     "text": [
      "                                   user_id utm_source            day  \\\n",
      "0     008b7c6c-7272-471e-b90e-930d548bd8d7     google   6 - Saturday   \n",
      "1     009abb94-5e14-4b6c-bb1c-4f4df7aa7557   facebook     7 - Sunday   \n",
      "2     00f5d532-ed58-4570-b6d2-768df5f41aed    twitter    2 - Tuesday   \n",
      "3     011adc64-0f44-4fd9-a0bb-f1506d2ad439     google    2 - Tuesday   \n",
      "4     012137e6-7ae7-4649-af68-205b4702169c   facebook     7 - Sunday   \n",
      "...                                    ...        ...            ...   \n",
      "1649  fe8b5236-78f6-4192-9da6-a76bba67cfe6    twitter     7 - Sunday   \n",
      "1650  fed3db6d-8c92-40e3-a4fb-1fb9d7337eb1   facebook     5 - Friday   \n",
      "1651  ff3a22ff-521c-478c-87ca-7dc7b8f34372    twitter  3 - Wednesday   \n",
      "1652  ff3af0d6-b092-4c4d-9f2e-2bdd8f7c0732     google     1 - Monday   \n",
      "1653  ffdfe7ec-0c74-4623-8d90-d95d80f1ba34   facebook   6 - Saturday   \n",
      "\n",
      "     ad_click_timestamp experimental_group is_click  \n",
      "0                 07:18                  A    07:18  \n",
      "1                   NaN                  B      NaN  \n",
      "2                   NaN                  A      NaN  \n",
      "3                   NaN                  B      NaN  \n",
      "4                   NaN                  B      NaN  \n",
      "...                 ...                ...      ...  \n",
      "1649                NaN                  A      NaN  \n",
      "1650                NaN                  B      NaN  \n",
      "1651                NaN                  B      NaN  \n",
      "1652              22:57                  A    22:57  \n",
      "1653                NaN                  B      NaN  \n",
      "\n",
      "[1654 rows x 6 columns]\n"
     ]
    }
   ],
   "source": [
    "ad_clicks[\"is_click\"] = ad_clicks.apply(lambda row: row[\"ad_click_timestamp\"] if row[\"ad_click_timestamp\"] != \"Nan\" else None ,axis=1 )\n",
    "print(ad_clicks)"
   ]
  },
  {
   "cell_type": "markdown",
   "metadata": {},
   "source": [
    "- let's check the people who clicked on email and social media plateforms"
   ]
  },
  {
   "cell_type": "code",
   "execution_count": 44,
   "metadata": {},
   "outputs": [
    {
     "name": "stdout",
     "output_type": "stream",
     "text": [
      "    utm_source is_click  user_id\n",
      "0        email    00:40        1\n",
      "1        email    00:52        1\n",
      "2        email    00:58        1\n",
      "3        email    01:04        1\n",
      "4        email    01:29        1\n",
      "..         ...      ...      ...\n",
      "517    twitter    23:01        1\n",
      "518    twitter    23:24        1\n",
      "519    twitter    23:31        1\n",
      "520    twitter    23:54        1\n",
      "521    twitter    23:58        1\n",
      "\n",
      "[522 rows x 3 columns]\n"
     ]
    }
   ],
   "source": [
    "clicks_by_source = ad_clicks.groupby([\"utm_source\", \"is_click\"]).user_id.count().reset_index()\n",
    "print(clicks_by_source)"
   ]
  },
  {
   "cell_type": "markdown",
   "metadata": {},
   "source": [
    "- let's pivot the email and social media datframe to make it readable"
   ]
  },
  {
   "cell_type": "code",
   "execution_count": 45,
   "metadata": {},
   "outputs": [
    {
     "name": "stdout",
     "output_type": "stream",
     "text": [
      "is_click utm_source  00:01  00:02  00:05  00:10  00:18  00:22  00:25  00:28  \\\n",
      "0             email    NaN    NaN    NaN    NaN    NaN    NaN    NaN    NaN   \n",
      "1          facebook    NaN    NaN    NaN    1.0    NaN    1.0    NaN    NaN   \n",
      "2            google    1.0    NaN    1.0    NaN    1.0    NaN    1.0    1.0   \n",
      "3           twitter    NaN    1.0    NaN    NaN    NaN    NaN    NaN    NaN   \n",
      "\n",
      "is_click  00:32  ...  23:35  23:38  23:40  23:41  23:46  23:48  23:50  23:54  \\\n",
      "0           NaN  ...    NaN    1.0    1.0    1.0    1.0    NaN    NaN    NaN   \n",
      "1           NaN  ...    NaN    NaN    NaN    NaN    1.0    NaN    1.0    NaN   \n",
      "2           1.0  ...    1.0    NaN    NaN    NaN    NaN    1.0    NaN    NaN   \n",
      "3           NaN  ...    NaN    NaN    NaN    NaN    NaN    NaN    NaN    1.0   \n",
      "\n",
      "is_click  23:57  23:58  \n",
      "0           1.0    NaN  \n",
      "1           NaN    NaN  \n",
      "2           NaN    NaN  \n",
      "3           NaN    1.0  \n",
      "\n",
      "[4 rows x 465 columns]\n"
     ]
    }
   ],
   "source": [
    "clicks_pivot = clicks_by_source.pivot(columns=\"is_click\",\n",
    "index = \"utm_source\",\n",
    "values = \"user_id\").reset_index()\n",
    "print(clicks_pivot)"
   ]
  },
  {
   "cell_type": "markdown",
   "metadata": {},
   "source": [
    "- "
   ]
  },
  {
   "cell_type": "code",
   "execution_count": 46,
   "metadata": {},
   "outputs": [
    {
     "ename": "KeyError",
     "evalue": "True",
     "output_type": "error",
     "traceback": [
      "\u001b[1;31m---------------------------------------------------------------------------\u001b[0m",
      "\u001b[1;31mKeyError\u001b[0m                                  Traceback (most recent call last)",
      "File \u001b[1;32mc:\\Users\\laaga\\AppData\\Local\\Programs\\Python\\Python312\\Lib\\site-packages\\pandas\\core\\indexes\\base.py:3790\u001b[0m, in \u001b[0;36mIndex.get_loc\u001b[1;34m(self, key)\u001b[0m\n\u001b[0;32m   3789\u001b[0m \u001b[38;5;28;01mtry\u001b[39;00m:\n\u001b[1;32m-> 3790\u001b[0m     \u001b[38;5;28;01mreturn\u001b[39;00m \u001b[38;5;28;43mself\u001b[39;49m\u001b[38;5;241;43m.\u001b[39;49m\u001b[43m_engine\u001b[49m\u001b[38;5;241;43m.\u001b[39;49m\u001b[43mget_loc\u001b[49m\u001b[43m(\u001b[49m\u001b[43mcasted_key\u001b[49m\u001b[43m)\u001b[49m\n\u001b[0;32m   3791\u001b[0m \u001b[38;5;28;01mexcept\u001b[39;00m \u001b[38;5;167;01mKeyError\u001b[39;00m \u001b[38;5;28;01mas\u001b[39;00m err:\n",
      "File \u001b[1;32mindex.pyx:152\u001b[0m, in \u001b[0;36mpandas._libs.index.IndexEngine.get_loc\u001b[1;34m()\u001b[0m\n",
      "File \u001b[1;32mindex.pyx:181\u001b[0m, in \u001b[0;36mpandas._libs.index.IndexEngine.get_loc\u001b[1;34m()\u001b[0m\n",
      "File \u001b[1;32mpandas\\_libs\\hashtable_class_helper.pxi:7080\u001b[0m, in \u001b[0;36mpandas._libs.hashtable.PyObjectHashTable.get_item\u001b[1;34m()\u001b[0m\n",
      "File \u001b[1;32mpandas\\_libs\\hashtable_class_helper.pxi:7088\u001b[0m, in \u001b[0;36mpandas._libs.hashtable.PyObjectHashTable.get_item\u001b[1;34m()\u001b[0m\n",
      "\u001b[1;31mKeyError\u001b[0m: True",
      "\nThe above exception was the direct cause of the following exception:\n",
      "\u001b[1;31mKeyError\u001b[0m                                  Traceback (most recent call last)",
      "Cell \u001b[1;32mIn[46], line 1\u001b[0m\n\u001b[1;32m----> 1\u001b[0m clicks_pivot[\u001b[38;5;124m'\u001b[39m\u001b[38;5;124mpercent_clicked\u001b[39m\u001b[38;5;124m'\u001b[39m] \u001b[38;5;241m=\u001b[39m \u001b[43mclicks_pivot\u001b[49m\u001b[43m[\u001b[49m\u001b[38;5;28;43;01mTrue\u001b[39;49;00m\u001b[43m]\u001b[49m \u001b[38;5;241m/\u001b[39m (clicks_pivot[\u001b[38;5;28;01mTrue\u001b[39;00m] \u001b[38;5;241m+\u001b[39m clicks_pivot[\u001b[38;5;28;01mFalse\u001b[39;00m])\n",
      "File \u001b[1;32mc:\\Users\\laaga\\AppData\\Local\\Programs\\Python\\Python312\\Lib\\site-packages\\pandas\\core\\frame.py:3896\u001b[0m, in \u001b[0;36mDataFrame.__getitem__\u001b[1;34m(self, key)\u001b[0m\n\u001b[0;32m   3894\u001b[0m \u001b[38;5;28;01mif\u001b[39;00m \u001b[38;5;28mself\u001b[39m\u001b[38;5;241m.\u001b[39mcolumns\u001b[38;5;241m.\u001b[39mnlevels \u001b[38;5;241m>\u001b[39m \u001b[38;5;241m1\u001b[39m:\n\u001b[0;32m   3895\u001b[0m     \u001b[38;5;28;01mreturn\u001b[39;00m \u001b[38;5;28mself\u001b[39m\u001b[38;5;241m.\u001b[39m_getitem_multilevel(key)\n\u001b[1;32m-> 3896\u001b[0m indexer \u001b[38;5;241m=\u001b[39m \u001b[38;5;28;43mself\u001b[39;49m\u001b[38;5;241;43m.\u001b[39;49m\u001b[43mcolumns\u001b[49m\u001b[38;5;241;43m.\u001b[39;49m\u001b[43mget_loc\u001b[49m\u001b[43m(\u001b[49m\u001b[43mkey\u001b[49m\u001b[43m)\u001b[49m\n\u001b[0;32m   3897\u001b[0m \u001b[38;5;28;01mif\u001b[39;00m is_integer(indexer):\n\u001b[0;32m   3898\u001b[0m     indexer \u001b[38;5;241m=\u001b[39m [indexer]\n",
      "File \u001b[1;32mc:\\Users\\laaga\\AppData\\Local\\Programs\\Python\\Python312\\Lib\\site-packages\\pandas\\core\\indexes\\base.py:3797\u001b[0m, in \u001b[0;36mIndex.get_loc\u001b[1;34m(self, key)\u001b[0m\n\u001b[0;32m   3792\u001b[0m     \u001b[38;5;28;01mif\u001b[39;00m \u001b[38;5;28misinstance\u001b[39m(casted_key, \u001b[38;5;28mslice\u001b[39m) \u001b[38;5;129;01mor\u001b[39;00m (\n\u001b[0;32m   3793\u001b[0m         \u001b[38;5;28misinstance\u001b[39m(casted_key, abc\u001b[38;5;241m.\u001b[39mIterable)\n\u001b[0;32m   3794\u001b[0m         \u001b[38;5;129;01mand\u001b[39;00m \u001b[38;5;28many\u001b[39m(\u001b[38;5;28misinstance\u001b[39m(x, \u001b[38;5;28mslice\u001b[39m) \u001b[38;5;28;01mfor\u001b[39;00m x \u001b[38;5;129;01min\u001b[39;00m casted_key)\n\u001b[0;32m   3795\u001b[0m     ):\n\u001b[0;32m   3796\u001b[0m         \u001b[38;5;28;01mraise\u001b[39;00m InvalidIndexError(key)\n\u001b[1;32m-> 3797\u001b[0m     \u001b[38;5;28;01mraise\u001b[39;00m \u001b[38;5;167;01mKeyError\u001b[39;00m(key) \u001b[38;5;28;01mfrom\u001b[39;00m \u001b[38;5;21;01merr\u001b[39;00m\n\u001b[0;32m   3798\u001b[0m \u001b[38;5;28;01mexcept\u001b[39;00m \u001b[38;5;167;01mTypeError\u001b[39;00m:\n\u001b[0;32m   3799\u001b[0m     \u001b[38;5;66;03m# If we have a listlike key, _check_indexing_error will raise\u001b[39;00m\n\u001b[0;32m   3800\u001b[0m     \u001b[38;5;66;03m#  InvalidIndexError. Otherwise we fall through and re-raise\u001b[39;00m\n\u001b[0;32m   3801\u001b[0m     \u001b[38;5;66;03m#  the TypeError.\u001b[39;00m\n\u001b[0;32m   3802\u001b[0m     \u001b[38;5;28mself\u001b[39m\u001b[38;5;241m.\u001b[39m_check_indexing_error(key)\n",
      "\u001b[1;31mKeyError\u001b[0m: True"
     ]
    }
   ],
   "source": [
    "clicks_pivot['percent_clicked'] = clicks_pivot[True] / (clicks_pivot[True] + clicks_pivot[False])\n"
   ]
  },
  {
   "cell_type": "markdown",
   "metadata": {},
   "source": [
    "- let's find the number of people targeted for each Ad compaign"
   ]
  },
  {
   "cell_type": "code",
   "execution_count": null,
   "metadata": {},
   "outputs": [
    {
     "name": "stdout",
     "output_type": "stream",
     "text": [
      "  experimental_group  user_id\n",
      "0                  A      827\n",
      "1                  B      827\n"
     ]
    }
   ],
   "source": [
    "number_of_people_ad = ad_clicks.groupby(\"experimental_group\").user_id.count().reset_index()\n",
    "print(number_of_people_ad)"
   ]
  },
  {
   "cell_type": "markdown",
   "metadata": {},
   "source": [
    "- let's create  dataframe grouping the ads and the click per each user"
   ]
  },
  {
   "cell_type": "code",
   "execution_count": null,
   "metadata": {},
   "outputs": [
    {
     "name": "stdout",
     "output_type": "stream",
     "text": [
      "    experimental_group is_click  user_id\n",
      "0                    A    00:02        1\n",
      "1                    A    00:05        1\n",
      "2                    A    00:10        1\n",
      "3                    A    00:25        1\n",
      "4                    A    00:32        1\n",
      "..                 ...      ...      ...\n",
      "505                  B    23:30        2\n",
      "506                  B    23:33        1\n",
      "507                  B    23:35        1\n",
      "508                  B    23:50        1\n",
      "509                  B    23:58        1\n",
      "\n",
      "[510 rows x 3 columns]\n"
     ]
    }
   ],
   "source": [
    "percent_of_ad_per_click = ad_clicks.groupby([\"experimental_group\", \"is_click\"]).user_id.count().reset_index()\n",
    "print(percent_of_ad_per_click)"
   ]
  },
  {
   "cell_type": "markdown",
   "metadata": {},
   "source": [
    "- let's pivot it"
   ]
  },
  {
   "cell_type": "code",
   "execution_count": null,
   "metadata": {},
   "outputs": [],
   "source": [
    "pivoted_ad_per_click = percent_of_ad_per_click.pivot(\n",
    "                        columns = \"is_click\",\n",
    "                        index=\"experimental_group\",\n",
    "                        values = \"user_id\",\n",
    "                        ).reset_index()"
   ]
  },
  {
   "cell_type": "code",
   "execution_count": null,
   "metadata": {},
   "outputs": [
    {
     "name": "stdout",
     "output_type": "stream",
     "text": [
      "is_click experimental_group  00:01  00:02  00:05  00:10  00:18  00:22  00:25  \\\n",
      "0                         A    NaN    1.0    1.0    1.0    NaN    NaN    1.0   \n",
      "1                         B    1.0    NaN    NaN    NaN    1.0    1.0    NaN   \n",
      "\n",
      "is_click  00:28  00:32  ...  23:35  23:38  23:40  23:41  23:46  23:48  23:50  \\\n",
      "0           NaN    1.0  ...    NaN    1.0    1.0    1.0    2.0    1.0    NaN   \n",
      "1           1.0    NaN  ...    1.0    NaN    NaN    NaN    NaN    NaN    1.0   \n",
      "\n",
      "is_click  23:54  23:57  23:58  \n",
      "0           1.0    1.0    NaN  \n",
      "1           NaN    NaN    1.0  \n",
      "\n",
      "[2 rows x 465 columns]\n"
     ]
    }
   ],
   "source": [
    "print(pivoted_ad_per_click)"
   ]
  },
  {
   "cell_type": "markdown",
   "metadata": {},
   "source": [
    "- let's group all the clicks made for each ad type"
   ]
  },
  {
   "cell_type": "code",
   "execution_count": null,
   "metadata": {},
   "outputs": [
    {
     "name": "stdout",
     "output_type": "stream",
     "text": [
      "                                   user_id utm_source            day  \\\n",
      "0     008b7c6c-7272-471e-b90e-930d548bd8d7     google   6 - Saturday   \n",
      "2     00f5d532-ed58-4570-b6d2-768df5f41aed    twitter    2 - Tuesday   \n",
      "5     013b0072-7b72-40e7-b698-98b4d0c9967f   facebook     1 - Monday   \n",
      "6     0153d85b-7660-4c39-92eb-1e1acd023280     google   4 - Thursday   \n",
      "7     01555297-d6e6-49ae-aeba-1b196fdbb09f     google  3 - Wednesday   \n",
      "...                                    ...        ...            ...   \n",
      "1643  fceb13ea-fd8c-446a-a61f-f977d404330a    twitter   6 - Saturday   \n",
      "1646  fd7d06ea-38b5-4ed9-acc9-777047db8c56     google   4 - Thursday   \n",
      "1647  fe570a20-448f-40ed-930b-8482b8a7c231   facebook     1 - Monday   \n",
      "1649  fe8b5236-78f6-4192-9da6-a76bba67cfe6    twitter     7 - Sunday   \n",
      "1652  ff3af0d6-b092-4c4d-9f2e-2bdd8f7c0732     google     1 - Monday   \n",
      "\n",
      "     ad_click_timestamp experimental_group is_click  \n",
      "0                 07:18                  A    07:18  \n",
      "2                   NaN                  A      NaN  \n",
      "5                   NaN                  A      NaN  \n",
      "6                   NaN                  A      NaN  \n",
      "7                   NaN                  A      NaN  \n",
      "...                 ...                ...      ...  \n",
      "1643                NaN                  A      NaN  \n",
      "1646                NaN                  A      NaN  \n",
      "1647              20:07                  A    20:07  \n",
      "1649                NaN                  A      NaN  \n",
      "1652              22:57                  A    22:57  \n",
      "\n",
      "[827 rows x 6 columns]\n",
      "                                   user_id utm_source            day  \\\n",
      "1     009abb94-5e14-4b6c-bb1c-4f4df7aa7557   facebook     7 - Sunday   \n",
      "3     011adc64-0f44-4fd9-a0bb-f1506d2ad439     google    2 - Tuesday   \n",
      "4     012137e6-7ae7-4649-af68-205b4702169c   facebook     7 - Sunday   \n",
      "9     01a210c3-fde0-4e6f-8efd-4f0e38730ae6      email    2 - Tuesday   \n",
      "10    01adb2e7-f711-4ae4-a7c6-29f48457eea1     google  3 - Wednesday   \n",
      "...                                    ...        ...            ...   \n",
      "1645  fd2a5852-f0ef-4162-84a6-107a42dc46b5    twitter  3 - Wednesday   \n",
      "1648  fe6cfa5a-cc63-4770-8d56-c13ac8cf5bef     google  3 - Wednesday   \n",
      "1650  fed3db6d-8c92-40e3-a4fb-1fb9d7337eb1   facebook     5 - Friday   \n",
      "1651  ff3a22ff-521c-478c-87ca-7dc7b8f34372    twitter  3 - Wednesday   \n",
      "1653  ffdfe7ec-0c74-4623-8d90-d95d80f1ba34   facebook   6 - Saturday   \n",
      "\n",
      "     ad_click_timestamp experimental_group is_click  \n",
      "1                   NaN                  B      NaN  \n",
      "3                   NaN                  B      NaN  \n",
      "4                   NaN                  B      NaN  \n",
      "9                 15:21                  B    15:21  \n",
      "10                  NaN                  B      NaN  \n",
      "...                 ...                ...      ...  \n",
      "1645                NaN                  B      NaN  \n",
      "1648              15:06                  B    15:06  \n",
      "1650                NaN                  B      NaN  \n",
      "1651                NaN                  B      NaN  \n",
      "1653                NaN                  B      NaN  \n",
      "\n",
      "[827 rows x 6 columns]\n"
     ]
    }
   ],
   "source": [
    "a_clicks = ad_clicks[ad_clicks.experimental_group == \"A\"]\n",
    "b_clicks = ad_clicks[ad_clicks.experimental_group == \"B\"]\n",
    "print(a_clicks)\n",
    "print(b_clicks)"
   ]
  },
  {
   "cell_type": "markdown",
   "metadata": {},
   "source": [
    "- let's create a datafram that will have all the true values of our clients clicking"
   ]
  },
  {
   "cell_type": "code",
   "execution_count": 47,
   "metadata": {},
   "outputs": [
    {
     "name": "stdout",
     "output_type": "stream",
     "text": [
      "    is_click            day  user_id\n",
      "0      00:02     7 - Sunday        1\n",
      "1      00:05   4 - Thursday        1\n",
      "2      00:10   6 - Saturday        1\n",
      "3      00:25     1 - Monday        1\n",
      "4      00:32     5 - Friday        1\n",
      "..       ...            ...      ...\n",
      "300    23:46   4 - Thursday        1\n",
      "301    23:46     7 - Sunday        1\n",
      "302    23:48     5 - Friday        1\n",
      "303    23:54   6 - Saturday        1\n",
      "304    23:57  3 - Wednesday        1\n",
      "\n",
      "[305 rows x 3 columns]\n",
      "    is_click            day  user_id\n",
      "0      00:01  3 - Wednesday        1\n",
      "1      00:18    2 - Tuesday        1\n",
      "2      00:22    2 - Tuesday        1\n",
      "3      00:28   6 - Saturday        1\n",
      "4      00:40  3 - Wednesday        1\n",
      "..       ...            ...      ...\n",
      "248    23:30   6 - Saturday        1\n",
      "249    23:33     5 - Friday        1\n",
      "250    23:35     1 - Monday        1\n",
      "251    23:50     7 - Sunday        1\n",
      "252    23:58     5 - Friday        1\n",
      "\n",
      "[253 rows x 3 columns]\n"
     ]
    }
   ],
   "source": [
    "count_a_clicks = a_clicks.groupby([\"is_click\", \"day\"]).user_id.count().reset_index()\n",
    "count_b_clicks = b_clicks.groupby([\"is_click\", \"day\"]).user_id.count().reset_index()\n",
    "print(count_a_clicks)\n",
    "print(count_b_clicks)"
   ]
  },
  {
   "cell_type": "markdown",
   "metadata": {},
   "source": [
    "- let's pivot it:"
   ]
  },
  {
   "cell_type": "code",
   "execution_count": null,
   "metadata": {},
   "outputs": [
    {
     "name": "stdout",
     "output_type": "stream",
     "text": [
      "is_click            day  00:02  00:05  00:10  00:25  00:32  00:34  00:35  \\\n",
      "0            1 - Monday    NaN    NaN    NaN    1.0    NaN    1.0    NaN   \n",
      "1           2 - Tuesday    NaN    NaN    NaN    NaN    NaN    NaN    NaN   \n",
      "2         3 - Wednesday    NaN    NaN    NaN    NaN    NaN    NaN    NaN   \n",
      "3          4 - Thursday    NaN    1.0    NaN    NaN    NaN    NaN    1.0   \n",
      "4            5 - Friday    NaN    NaN    NaN    NaN    1.0    NaN    NaN   \n",
      "5          6 - Saturday    NaN    NaN    1.0    NaN    NaN    NaN    NaN   \n",
      "6            7 - Sunday    1.0    NaN    NaN    NaN    NaN    NaN    NaN   \n",
      "\n",
      "is_click  00:44  00:45  ...  23:31  23:32  23:34  23:38  23:40  23:41  23:46  \\\n",
      "0           NaN    1.0  ...    NaN    NaN    NaN    1.0    NaN    NaN    NaN   \n",
      "1           NaN    NaN  ...    NaN    NaN    NaN    NaN    NaN    NaN    NaN   \n",
      "2           NaN    NaN  ...    NaN    1.0    NaN    NaN    NaN    NaN    NaN   \n",
      "3           NaN    NaN  ...    NaN    NaN    1.0    NaN    NaN    NaN    1.0   \n",
      "4           NaN    NaN  ...    NaN    NaN    NaN    NaN    1.0    NaN    NaN   \n",
      "5           1.0    NaN  ...    1.0    NaN    NaN    NaN    NaN    NaN    NaN   \n",
      "6           NaN    NaN  ...    NaN    NaN    NaN    NaN    NaN    1.0    1.0   \n",
      "\n",
      "is_click  23:48  23:54  23:57  \n",
      "0           NaN    NaN    NaN  \n",
      "1           NaN    NaN    NaN  \n",
      "2           NaN    NaN    1.0  \n",
      "3           NaN    NaN    NaN  \n",
      "4           1.0    NaN    NaN  \n",
      "5           NaN    1.0    NaN  \n",
      "6           NaN    NaN    NaN  \n",
      "\n",
      "[7 rows x 283 columns]\n"
     ]
    }
   ],
   "source": [
    "pivot_count_a_clicks = count_a_clicks.pivot(columns =\"is_click\",\n",
    "                                index=\"day\",\n",
    "                                values=\"user_id\").reset_index()\n",
    "print(pivot_count_a_clicks)"
   ]
  },
  {
   "cell_type": "code",
   "execution_count": 49,
   "metadata": {},
   "outputs": [
    {
     "name": "stdout",
     "output_type": "stream",
     "text": [
      "is_click            day  00:01  00:18  00:22  00:28  00:40  00:52  00:54  \\\n",
      "0            1 - Monday    NaN    NaN    NaN    NaN    NaN    NaN    NaN   \n",
      "1           2 - Tuesday    NaN    1.0    1.0    NaN    NaN    NaN    NaN   \n",
      "2         3 - Wednesday    1.0    NaN    NaN    NaN    1.0    NaN    NaN   \n",
      "3          4 - Thursday    NaN    NaN    NaN    NaN    NaN    1.0    NaN   \n",
      "4            5 - Friday    NaN    NaN    NaN    NaN    NaN    NaN    NaN   \n",
      "5          6 - Saturday    NaN    NaN    NaN    1.0    NaN    NaN    1.0   \n",
      "6            7 - Sunday    NaN    NaN    NaN    NaN    NaN    NaN    NaN   \n",
      "\n",
      "is_click  00:55  00:58  ...  22:53  22:54  23:17  23:18  23:20  23:30  23:33  \\\n",
      "0           NaN    NaN  ...    NaN    NaN    1.0    NaN    NaN    NaN    NaN   \n",
      "1           NaN    NaN  ...    NaN    NaN    NaN    NaN    1.0    NaN    NaN   \n",
      "2           NaN    NaN  ...    NaN    1.0    NaN    NaN    NaN    NaN    NaN   \n",
      "3           NaN    NaN  ...    2.0    NaN    NaN    1.0    NaN    1.0    NaN   \n",
      "4           NaN    1.0  ...    NaN    NaN    NaN    NaN    NaN    NaN    1.0   \n",
      "5           1.0    NaN  ...    NaN    NaN    NaN    NaN    NaN    1.0    NaN   \n",
      "6           NaN    NaN  ...    NaN    NaN    NaN    NaN    NaN    NaN    NaN   \n",
      "\n",
      "is_click  23:35  23:50  23:58  \n",
      "0           1.0    NaN    NaN  \n",
      "1           NaN    NaN    NaN  \n",
      "2           NaN    NaN    NaN  \n",
      "3           NaN    NaN    NaN  \n",
      "4           NaN    NaN    1.0  \n",
      "5           NaN    NaN    NaN  \n",
      "6           NaN    1.0    NaN  \n",
      "\n",
      "[7 rows x 229 columns]\n"
     ]
    }
   ],
   "source": [
    "pivot_count_b_clicks = count_b_clicks.pivot(columns =\"is_click\",\n",
    "                                index=\"day\",\n",
    "                                values=\"user_id\").reset_index()\n",
    "print(pivot_count_b_clicks)"
   ]
  }
 ],
 "metadata": {
  "kernelspec": {
   "display_name": "Python 3",
   "language": "python",
   "name": "python3"
  },
  "language_info": {
   "codemirror_mode": {
    "name": "ipython",
    "version": 3
   },
   "file_extension": ".py",
   "mimetype": "text/x-python",
   "name": "python",
   "nbconvert_exporter": "python",
   "pygments_lexer": "ipython3",
   "version": "3.12.0"
  }
 },
 "nbformat": 4,
 "nbformat_minor": 2
}
