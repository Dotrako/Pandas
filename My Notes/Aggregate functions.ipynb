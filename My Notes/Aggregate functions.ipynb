{
 "cells": [
  {
   "cell_type": "markdown",
   "metadata": {},
   "source": [
    "### Calculating Column Statistics"
   ]
  },
  {
   "cell_type": "markdown",
   "metadata": {},
   "source": [
    "- Creating the shoe dataframe"
   ]
  },
  {
   "cell_type": "code",
   "execution_count": 133,
   "metadata": {},
   "outputs": [
    {
     "name": "stdout",
     "output_type": "stream",
     "text": [
      "       id first_name    last_name                          email  \\\n",
      "0   41874       Kyle         Peck           KylePeck71@gmail.com   \n",
      "1   31349  Elizabeth    Velazquez       EVelazquez1971@gmail.com   \n",
      "2   43416      Keith     Saunders               KS4047@gmail.com   \n",
      "3   56054       Ryan      Sweeney      RyanSweeney14@outlook.com   \n",
      "4   77402      Donna  Blankenship               DB3807@gmail.com   \n",
      "5   97148     Albert       Dillon        Albert.Dillon@gmail.com   \n",
      "6   19998     Judith       Hewitt       JudithHewitt98@gmail.com   \n",
      "7   83290      Kayla       Hardin         Kayla.Hardin@gmail.com   \n",
      "8   77867     Steven  Blankenship   Steven.Blankenship@gmail.com   \n",
      "9   54885      Carol   Mclaughlin               CM3415@gmail.com   \n",
      "10  35853      Jacob       Juarez        JJuarez1977@outlook.com   \n",
      "11  35916    Michael  Christensen  Michael.Christensen@gmail.com   \n",
      "12  39587     Dennis         Vega          Dennis.Vega@gmail.com   \n",
      "13  19234   Kathleen        Frost           KFrost1970@gmail.com   \n",
      "14  19733    Deborah         Lara         Deborah.Lara@gmail.com   \n",
      "15  30871    Abigail      Dillard         ADillard1994@gmail.com   \n",
      "16  11967      Maria    Whitfield      Maria.Whitfield@gmail.com   \n",
      "17  42371    Gregory         Rose            GRose1983@gmail.com   \n",
      "18  35693   Margaret        Tyler           MTyler1974@gmail.com   \n",
      "19  36694    Jessica         Cash            JCash1997@gmail.com   \n",
      "20  84933     Jeremy       Holder       JeremyHolder35@gmail.com   \n",
      "21  92283      Diana      Burgess         DBurgess1998@gmail.com   \n",
      "22  87240    William     Calderon    WilliamCalderon79@gmail.com   \n",
      "23  49817  Katherine       Jensen     Katherine.Jensen@gmail.com   \n",
      "24  18255    Tiffany     Bradshaw               TB6065@gmail.com   \n",
      "25  16026    William      Edwards               WE2364@gmail.com   \n",
      "26  39560     Teresa   Valenzuela      TValenzuela1973@gmail.com   \n",
      "\n",
      "       shoe_type shoe_material shoe_color  price  \n",
      "0   ballet flats  faux-leather      black  385.0  \n",
      "1          boots        fabric      brown  388.0  \n",
      "2        sandals       leather       navy  346.0  \n",
      "3        sandals        fabric      brown  344.0  \n",
      "4      stilettos        fabric      brown  289.0  \n",
      "5         wedges        fabric      brown  266.0  \n",
      "6      stilettos       leather      black  395.0  \n",
      "7      stilettos       leather      white  241.0  \n",
      "8         wedges       leather       navy  266.0  \n",
      "9   ballet flats  faux-leather      brown  440.0  \n",
      "10  ballet flats       leather        red  331.0  \n",
      "11  ballet flats  faux-leather        red  270.0  \n",
      "12  ballet flats  faux-leather      brown   91.0  \n",
      "13         clogs       leather      brown  319.0  \n",
      "14  ballet flats       leather      white  205.0  \n",
      "15  ballet flats  faux-leather      white  278.0  \n",
      "16        wedges        fabric      white  180.0  \n",
      "17         boots  faux-leather      brown  319.0  \n",
      "18  ballet flats        fabric      brown  481.0  \n",
      "19         clogs       leather        red  397.0  \n",
      "20        wedges       leather        red  347.0  \n",
      "21        wedges  faux-leather        red  324.0  \n",
      "22         clogs       leather        red  439.0  \n",
      "23         boots        fabric      black  171.0  \n",
      "24         boots  faux-leather       navy  284.0  \n",
      "25       sandals       leather      white  326.0  \n",
      "26         clogs       leather      brown  323.0  \n"
     ]
    }
   ],
   "source": [
    "import pandas as pd\n",
    "import numpy as np\n",
    "\n",
    "# Define the data as a list of tuples\n",
    "orders = [\n",
    "    (41874, 'Kyle', 'Peck', 'KylePeck71@gmail.com', 'ballet flats', 'faux-leather', 'black', 385.0),\n",
    "    (31349, 'Elizabeth', 'Velazquez', 'EVelazquez1971@gmail.com', 'boots', 'fabric', 'brown', 388.0),\n",
    "    (43416, 'Keith', 'Saunders', 'KS4047@gmail.com', 'sandals', 'leather', 'navy', 346.0),\n",
    "    (56054, 'Ryan', 'Sweeney', 'RyanSweeney14@outlook.com', 'sandals', 'fabric', 'brown', 344.0),\n",
    "    (77402, 'Donna', 'Blankenship', 'DB3807@gmail.com', 'stilettos', 'fabric', 'brown', 289.0),\n",
    "    (97148, 'Albert', 'Dillon', 'Albert.Dillon@gmail.com', 'wedges', 'fabric', 'brown', 266.0),\n",
    "    (19998, 'Judith', 'Hewitt', 'JudithHewitt98@gmail.com', 'stilettos', 'leather', 'black', 395.0),\n",
    "    (83290, 'Kayla', 'Hardin', 'Kayla.Hardin@gmail.com', 'stilettos', 'leather', 'white', 241.0),\n",
    "    (77867, 'Steven', 'Blankenship', 'Steven.Blankenship@gmail.com', 'wedges', 'leather', 'navy', 266.0),\n",
    "    (54885, 'Carol', 'Mclaughlin', 'CM3415@gmail.com', 'ballet flats', 'faux-leather', 'brown', 440.0),\n",
    "    (35853, 'Jacob', 'Juarez', 'JJuarez1977@outlook.com', 'ballet flats', 'leather', 'red', 331.0),\n",
    "    (35916, 'Michael', 'Christensen', 'Michael.Christensen@gmail.com', 'ballet flats', 'faux-leather', 'red', 270.0),\n",
    "    (39587, 'Dennis', 'Vega', 'Dennis.Vega@gmail.com', 'ballet flats', 'faux-leather', 'brown', 91.0),\n",
    "    (19234, 'Kathleen', 'Frost', 'KFrost1970@gmail.com', 'clogs', 'leather', 'brown', 319.0),\n",
    "    (19733, 'Deborah', 'Lara', 'Deborah.Lara@gmail.com', 'ballet flats', 'leather', 'white', 205.0),\n",
    "    (30871, 'Abigail', 'Dillard', 'ADillard1994@gmail.com', 'ballet flats', 'faux-leather', 'white', 278.0),\n",
    "    (11967, 'Maria', 'Whitfield', 'Maria.Whitfield@gmail.com', 'wedges', 'fabric', 'white', 180.0),\n",
    "    (42371, 'Gregory', 'Rose', 'GRose1983@gmail.com', 'boots', 'faux-leather', 'brown', 319.0),\n",
    "    (35693, 'Margaret', 'Tyler', 'MTyler1974@gmail.com', 'ballet flats', 'fabric', 'brown', 481.0),\n",
    "    (36694, 'Jessica', 'Cash', 'JCash1997@gmail.com', 'clogs', 'leather', 'red', 397.0),\n",
    "    (84933, 'Jeremy', 'Holder', 'JeremyHolder35@gmail.com', 'wedges', 'leather', 'red', 347.0),\n",
    "    (92283, 'Diana', 'Burgess', 'DBurgess1998@gmail.com', 'wedges', 'faux-leather', 'red', 324.0),\n",
    "    (87240, 'William', 'Calderon', 'WilliamCalderon79@gmail.com', 'clogs', 'leather', 'red', 439.0),\n",
    "    (49817, 'Katherine', 'Jensen', 'Katherine.Jensen@gmail.com', 'boots', 'fabric', 'black', 171.0),\n",
    "    (18255, 'Tiffany', 'Bradshaw', 'TB6065@gmail.com', 'boots', 'faux-leather', 'navy', 284.0),\n",
    "    (16026, 'William', 'Edwards', 'WE2364@gmail.com', 'sandals', 'leather', 'white', 326.0),\n",
    "    (39560, 'Teresa', 'Valenzuela', 'TValenzuela1973@gmail.com', 'clogs', 'leather', 'brown', 323.0)\n",
    "]\n",
    "\n",
    "# Define the column names\n",
    "columns = ['id', 'first_name', 'last_name', 'email', 'shoe_type', 'shoe_material', 'shoe_color', 'price']\n",
    "\n",
    "# Creating DataFrame\n",
    "df = pd.DataFrame(orders, columns=columns)\n",
    "\n",
    "# Displaying DataFrame\n",
    "print(df)\n"
   ]
  },
  {
   "cell_type": "markdown",
   "metadata": {},
   "source": [
    "- lets visualize the top 10 orders"
   ]
  },
  {
   "cell_type": "code",
   "execution_count": 134,
   "metadata": {},
   "outputs": [
    {
     "name": "stdout",
     "output_type": "stream",
     "text": [
      "      id first_name    last_name                         email     shoe_type  \\\n",
      "0  41874       Kyle         Peck          KylePeck71@gmail.com  ballet flats   \n",
      "1  31349  Elizabeth    Velazquez      EVelazquez1971@gmail.com         boots   \n",
      "2  43416      Keith     Saunders              KS4047@gmail.com       sandals   \n",
      "3  56054       Ryan      Sweeney     RyanSweeney14@outlook.com       sandals   \n",
      "4  77402      Donna  Blankenship              DB3807@gmail.com     stilettos   \n",
      "5  97148     Albert       Dillon       Albert.Dillon@gmail.com        wedges   \n",
      "6  19998     Judith       Hewitt      JudithHewitt98@gmail.com     stilettos   \n",
      "7  83290      Kayla       Hardin        Kayla.Hardin@gmail.com     stilettos   \n",
      "8  77867     Steven  Blankenship  Steven.Blankenship@gmail.com        wedges   \n",
      "9  54885      Carol   Mclaughlin              CM3415@gmail.com  ballet flats   \n",
      "\n",
      "  shoe_material shoe_color  price  \n",
      "0  faux-leather      black  385.0  \n",
      "1        fabric      brown  388.0  \n",
      "2       leather       navy  346.0  \n",
      "3        fabric      brown  344.0  \n",
      "4        fabric      brown  289.0  \n",
      "5        fabric      brown  266.0  \n",
      "6       leather      black  395.0  \n",
      "7       leather      white  241.0  \n",
      "8       leather       navy  266.0  \n",
      "9  faux-leather      brown  440.0  \n"
     ]
    }
   ],
   "source": [
    "print(df.head(10))\n"
   ]
  },
  {
   "cell_type": "markdown",
   "metadata": {},
   "source": [
    "- Our finance department wants to know the price of the most expensive pair of shoes purchased"
   ]
  },
  {
   "cell_type": "code",
   "execution_count": 135,
   "metadata": {},
   "outputs": [
    {
     "name": "stdout",
     "output_type": "stream",
     "text": [
      "the most expensive item price is 481.0\n"
     ]
    }
   ],
   "source": [
    "most_expensive = df.price.max()\n",
    "print(f\"the most expensive item price is {most_expensive}\")"
   ]
  },
  {
   "cell_type": "markdown",
   "metadata": {},
   "source": [
    "- Our fashion department wants to know how many different colors of shoes we are selling."
   ]
  },
  {
   "cell_type": "code",
   "execution_count": 136,
   "metadata": {},
   "outputs": [
    {
     "name": "stdout",
     "output_type": "stream",
     "text": [
      "5\n"
     ]
    }
   ],
   "source": [
    "num_colors = df[\"shoe_color\"].nunique()\n",
    "print(num_colors)"
   ]
  },
  {
   "cell_type": "markdown",
   "metadata": {},
   "source": [
    "- lets find the highest shoe_price per each shoe type"
   ]
  },
  {
   "cell_type": "code",
   "execution_count": 137,
   "metadata": {},
   "outputs": [
    {
     "name": "stdout",
     "output_type": "stream",
     "text": [
      "shoe_type\n",
      "ballet flats    481.0\n",
      "boots           388.0\n",
      "clogs           439.0\n",
      "sandals         346.0\n",
      "stilettos       395.0\n",
      "wedges          347.0\n",
      "Name: price, dtype: float64\n"
     ]
    }
   ],
   "source": [
    "pricey_shoes = df.groupby(\"shoe_type\").price.max()\n",
    "print(pricey_shoes)"
   ]
  },
  {
   "cell_type": "markdown",
   "metadata": {},
   "source": [
    "- Our serie does not have any index we use .reset_index() combined with our querie"
   ]
  },
  {
   "cell_type": "code",
   "execution_count": 138,
   "metadata": {},
   "outputs": [
    {
     "name": "stdout",
     "output_type": "stream",
     "text": [
      "      shoe_type  price\n",
      "0  ballet flats  481.0\n",
      "1         boots  388.0\n",
      "2         clogs  439.0\n",
      "3       sandals  346.0\n",
      "4     stilettos  395.0\n",
      "5        wedges  347.0\n"
     ]
    }
   ],
   "source": [
    "pricey_shoes = df.groupby(\"shoe_type\").price.max().reset_index()\n",
    "print(pricey_shoes)"
   ]
  },
  {
   "cell_type": "markdown",
   "metadata": {},
   "source": [
    "- type of our table"
   ]
  },
  {
   "cell_type": "code",
   "execution_count": 139,
   "metadata": {},
   "outputs": [
    {
     "name": "stdout",
     "output_type": "stream",
     "text": [
      "<class 'pandas.core.frame.DataFrame'>\n"
     ]
    }
   ],
   "source": [
    "print(type(pricey_shoes))"
   ]
  },
  {
   "cell_type": "markdown",
   "metadata": {},
   "source": [
    "- Let’s calculate the 25th percentile for shoe price for each shoe_color to help Marketing decide if we have enough cheap shoes on sale. Save the data to the variable cheap_shoes."
   ]
  },
  {
   "cell_type": "code",
   "execution_count": 140,
   "metadata": {},
   "outputs": [
    {
     "name": "stdout",
     "output_type": "stream",
     "text": [
      "  shoe_color   price\n",
      "0      black  278.00\n",
      "1      brown  296.50\n",
      "2       navy  275.00\n",
      "3        red  325.75\n",
      "4      white  205.00\n",
      "<class 'pandas.core.frame.DataFrame'>\n"
     ]
    }
   ],
   "source": [
    "cheap_shoes = df.groupby(\"shoe_color\").price.apply(lambda x: np.percentile(x,25)).reset_index()\n",
    "print(cheap_shoes)\n",
    "print(type(cheap_shoes))"
   ]
  },
  {
   "cell_type": "markdown",
   "metadata": {},
   "source": [
    "-  our Purchasing team thinks that certain shoe_type/shoe_color combinations are particularly popular this year (for example, blue ballet flats are all the rage in Paris)."
   ]
  },
  {
   "cell_type": "markdown",
   "metadata": {},
   "source": [
    "- let's create a DataFrame with the total number of shoes of each shoe_type/shoe_color combination purchased. Save it to the variable shoe_counts."
   ]
  },
  {
   "cell_type": "code",
   "execution_count": 141,
   "metadata": {},
   "outputs": [
    {
     "name": "stdout",
     "output_type": "stream",
     "text": [
      "       shoe_type shoe_color  id\n",
      "0   ballet flats      black   1\n",
      "1   ballet flats      brown   3\n",
      "2   ballet flats        red   2\n",
      "3   ballet flats      white   2\n",
      "4          boots      black   1\n",
      "5          boots      brown   2\n",
      "6          boots       navy   1\n",
      "7          clogs      brown   2\n",
      "8          clogs        red   2\n",
      "9        sandals      brown   1\n",
      "10       sandals       navy   1\n",
      "11       sandals      white   1\n",
      "12     stilettos      black   1\n",
      "13     stilettos      brown   1\n",
      "14     stilettos      white   1\n",
      "15        wedges      brown   1\n",
      "16        wedges       navy   1\n",
      "17        wedges        red   2\n",
      "18        wedges      white   1\n",
      "<class 'pandas.core.frame.DataFrame'>\n"
     ]
    }
   ],
   "source": [
    "shoe_count = df.groupby([\"shoe_type\",\"shoe_color\"])[\"id\"].count().reset_index()\n",
    "print(shoe_count)\n",
    "print(type(shoe_count))"
   ]
  },
  {
   "cell_type": "markdown",
   "metadata": {},
   "source": [
    "### pivot tables"
   ]
  },
  {
   "cell_type": "markdown",
   "metadata": {},
   "source": [
    "- Our lovely manager is complaining about our previous dataframe we will use pivot method to make easy to read"
   ]
  },
  {
   "cell_type": "code",
   "execution_count": 142,
   "metadata": {},
   "outputs": [],
   "source": [
    "pivoted = shoe_count.pivot(\n",
    "    columns=\"shoe_color\",\n",
    "    index=\"shoe_type\",\n",
    "    values=\"id\"\n",
    ")"
   ]
  },
  {
   "cell_type": "code",
   "execution_count": 143,
   "metadata": {},
   "outputs": [
    {
     "name": "stdout",
     "output_type": "stream",
     "text": [
      "shoe_color    black  brown  navy  red  white\n",
      "shoe_type                                   \n",
      "ballet flats    1.0    3.0   NaN  2.0    2.0\n",
      "boots           1.0    2.0   1.0  NaN    NaN\n",
      "clogs           NaN    2.0   NaN  2.0    NaN\n",
      "sandals         NaN    1.0   1.0  NaN    1.0\n",
      "stilettos       1.0    1.0   NaN  NaN    1.0\n",
      "wedges          NaN    1.0   1.0  2.0    1.0\n"
     ]
    }
   ],
   "source": [
    "print(pivoted)"
   ]
  },
  {
   "cell_type": "markdown",
   "metadata": {},
   "source": [
    "email_file = pd.read_"
   ]
  },
  {
   "cell_type": "code",
   "execution_count": 144,
   "metadata": {},
   "outputs": [],
   "source": [
    "email_file = pd.read_csv(\"emails.csv\")"
   ]
  },
  {
   "cell_type": "markdown",
   "metadata": {},
   "source": [
    "- Let's create the dataframe from our csv file"
   ]
  },
  {
   "cell_type": "code",
   "execution_count": 145,
   "metadata": {},
   "outputs": [],
   "source": [
    "user_visits = pd.DataFrame(email_file).reset_index()"
   ]
  },
  {
   "cell_type": "markdown",
   "metadata": {},
   "source": [
    "- lets explore the data"
   ]
  },
  {
   "cell_type": "code",
   "execution_count": 146,
   "metadata": {},
   "outputs": [
    {
     "name": "stdout",
     "output_type": "stream",
     "text": [
      "   index     id first_name last_name                       email   month  \\\n",
      "0      0  10043      Louis      Koch       LouisKoch43@gmail.com  03-Mar   \n",
      "1      1  10150      Bruce      Webb     BruceWebb44@outlook.com  03-Mar   \n",
      "2      2  10155   Nicholas   Hoffman  Nicholas.Hoffman@gmail.com  02-Feb   \n",
      "3      3  10178    William       Key     William.Key@outlook.com  03-Mar   \n",
      "4      4  10208      Karen      Bass            KB4971@gmail.com  02-Feb   \n",
      "\n",
      "  utm_source  \n",
      "0      yahoo  \n",
      "1    twitter  \n",
      "2     google  \n",
      "3      yahoo  \n",
      "4     google  \n"
     ]
    }
   ],
   "source": [
    "print(user_visits.head())\n"
   ]
  },
  {
   "cell_type": "code",
   "execution_count": 147,
   "metadata": {},
   "outputs": [
    {
     "name": "stdout",
     "output_type": "stream",
     "text": [
      "      index     id first_name last_name                        email   month  \\\n",
      "2995   2995  99850     Gerald  Mccarthy           GM3575@hotmail.com  03-Mar   \n",
      "2996   2996  99914     Denise     Frost           DF1650@outlook.com  01-Jan   \n",
      "2997   2997  99929       Noah  Ferguson           NF6909@hotmail.com  02-Feb   \n",
      "2998   2998  99968      Grace   Vaughan     GVaughan1973@outlook.com  03-Mar   \n",
      "2999   2999  99995    Charles    Farmer  CharlesFarmer22@outlook.com  01-Jan   \n",
      "\n",
      "     utm_source  \n",
      "2995   facebook  \n",
      "2996     google  \n",
      "2997   facebook  \n",
      "2998      email  \n",
      "2999     google  \n"
     ]
    }
   ],
   "source": [
    "print(user_visits.tail())"
   ]
  },
  {
   "cell_type": "code",
   "execution_count": 148,
   "metadata": {},
   "outputs": [
    {
     "name": "stdout",
     "output_type": "stream",
     "text": [
      "<class 'pandas.core.frame.DataFrame'>\n",
      "RangeIndex: 3000 entries, 0 to 2999\n",
      "Data columns (total 7 columns):\n",
      " #   Column      Non-Null Count  Dtype \n",
      "---  ------      --------------  ----- \n",
      " 0   index       3000 non-null   int64 \n",
      " 1   id          3000 non-null   int64 \n",
      " 2   first_name  3000 non-null   object\n",
      " 3   last_name   3000 non-null   object\n",
      " 4   email       3000 non-null   object\n",
      " 5   month       3000 non-null   object\n",
      " 6   utm_source  3000 non-null   object\n",
      "dtypes: int64(2), object(5)\n",
      "memory usage: 164.2+ KB\n"
     ]
    }
   ],
   "source": [
    "user_visits.info()"
   ]
  },
  {
   "cell_type": "code",
   "execution_count": 149,
   "metadata": {},
   "outputs": [
    {
     "data": {
      "text/html": [
       "<div>\n",
       "<style scoped>\n",
       "    .dataframe tbody tr th:only-of-type {\n",
       "        vertical-align: middle;\n",
       "    }\n",
       "\n",
       "    .dataframe tbody tr th {\n",
       "        vertical-align: top;\n",
       "    }\n",
       "\n",
       "    .dataframe thead th {\n",
       "        text-align: right;\n",
       "    }\n",
       "</style>\n",
       "<table border=\"1\" class=\"dataframe\">\n",
       "  <thead>\n",
       "    <tr style=\"text-align: right;\">\n",
       "      <th></th>\n",
       "      <th>index</th>\n",
       "      <th>id</th>\n",
       "    </tr>\n",
       "  </thead>\n",
       "  <tbody>\n",
       "    <tr>\n",
       "      <th>count</th>\n",
       "      <td>3000.000000</td>\n",
       "      <td>3000.000000</td>\n",
       "    </tr>\n",
       "    <tr>\n",
       "      <th>mean</th>\n",
       "      <td>1499.500000</td>\n",
       "      <td>54361.393667</td>\n",
       "    </tr>\n",
       "    <tr>\n",
       "      <th>std</th>\n",
       "      <td>866.169729</td>\n",
       "      <td>25854.333095</td>\n",
       "    </tr>\n",
       "    <tr>\n",
       "      <th>min</th>\n",
       "      <td>0.000000</td>\n",
       "      <td>10043.000000</td>\n",
       "    </tr>\n",
       "    <tr>\n",
       "      <th>25%</th>\n",
       "      <td>749.750000</td>\n",
       "      <td>32175.500000</td>\n",
       "    </tr>\n",
       "    <tr>\n",
       "      <th>50%</th>\n",
       "      <td>1499.500000</td>\n",
       "      <td>53707.500000</td>\n",
       "    </tr>\n",
       "    <tr>\n",
       "      <th>75%</th>\n",
       "      <td>2249.250000</td>\n",
       "      <td>76357.500000</td>\n",
       "    </tr>\n",
       "    <tr>\n",
       "      <th>max</th>\n",
       "      <td>2999.000000</td>\n",
       "      <td>99995.000000</td>\n",
       "    </tr>\n",
       "  </tbody>\n",
       "</table>\n",
       "</div>"
      ],
      "text/plain": [
       "             index            id\n",
       "count  3000.000000   3000.000000\n",
       "mean   1499.500000  54361.393667\n",
       "std     866.169729  25854.333095\n",
       "min       0.000000  10043.000000\n",
       "25%     749.750000  32175.500000\n",
       "50%    1499.500000  53707.500000\n",
       "75%    2249.250000  76357.500000\n",
       "max    2999.000000  99995.000000"
      ]
     },
     "execution_count": 149,
     "metadata": {},
     "output_type": "execute_result"
    }
   ],
   "source": [
    "user_visits.describe()"
   ]
  },
  {
   "cell_type": "code",
   "execution_count": null,
   "metadata": {},
   "outputs": [],
   "source": [
    "user_visits = pd.read_csv('page_visits.csv')\n",
    "#1\n",
    "print(user_visits.head())\n",
    "#2\n",
    "click_source = user_visits.groupby(\"utm_source\").id.count().reset_index()\n",
    "#3\n",
    "print(click_source)\n",
    "#4\n",
    "click_source_by_month = user_visits.groupby([\"utm_source\", \"month\"]).id.count().reset_index()\n",
    "print(click_source_by_month)\n",
    "#5\n",
    "click_source_by_month_pivot = click_source_by_month.pivot(\n",
    "  columns = \"month\",\n",
    "  index = \"utm_source\",\n",
    "  values= \"id\"\n",
    ").reset_index()\n",
    "print(click_source_by_month_pivot)\n",
    "print(user_visits)"
   ]
  }
 ],
 "metadata": {
  "kernelspec": {
   "display_name": "Python 3",
   "language": "python",
   "name": "python3"
  },
  "language_info": {
   "codemirror_mode": {
    "name": "ipython",
    "version": 3
   },
   "file_extension": ".py",
   "mimetype": "text/x-python",
   "name": "python",
   "nbconvert_exporter": "python",
   "pygments_lexer": "ipython3",
   "version": "3.12.0"
  }
 },
 "nbformat": 4,
 "nbformat_minor": 2
}
