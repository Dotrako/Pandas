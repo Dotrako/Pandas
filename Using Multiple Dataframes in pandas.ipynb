{
 "cells": [
  {
   "cell_type": "code",
   "execution_count": 2,
   "metadata": {},
   "outputs": [],
   "source": [
    "import pandas as pd\n",
    "import numpy as np"
   ]
  },
  {
   "cell_type": "markdown",
   "metadata": {},
   "source": [
    "- let's load our csv_files"
   ]
  },
  {
   "cell_type": "markdown",
   "metadata": {},
   "source": [
    "- Orders file"
   ]
  },
  {
   "cell_type": "code",
   "execution_count": 3,
   "metadata": {},
   "outputs": [],
   "source": [
    "orders = pd.read_csv('order.csv')"
   ]
  },
  {
   "cell_type": "code",
   "execution_count": 4,
   "metadata": {},
   "outputs": [
    {
     "name": "stdout",
     "output_type": "stream",
     "text": [
      "   order_id  customer_id  product_id  quantity   timestamp\n",
      "0         1            1           2         3  01/01/2017\n",
      "1         2            2           2         3  01/01/2017\n",
      "2         3            3           1         1  01/01/2017\n",
      "3         4            4           3         2  01/02/2017\n",
      "4         5            5           3         3  01/02/2017\n",
      "5         6            6           1         4  01/03/2017\n",
      "6         7            7           1         1  02/02/2017\n",
      "7         8            8           1         4  02/02/2017\n"
     ]
    }
   ],
   "source": [
    "print(orders)"
   ]
  },
  {
   "cell_type": "markdown",
   "metadata": {},
   "source": [
    "- Products file"
   ]
  },
  {
   "cell_type": "code",
   "execution_count": 5,
   "metadata": {},
   "outputs": [],
   "source": [
    "products = pd.read_csv('products.csv')\n"
   ]
  },
  {
   "cell_type": "code",
   "execution_count": 6,
   "metadata": {},
   "outputs": [
    {
     "name": "stdout",
     "output_type": "stream",
     "text": [
      "        location  product_type         product_description  quantity  price\n",
      "0  Staten Island         seeds                       daisy         4   6.99\n",
      "1  Staten Island         seeds                  calla lily        46  19.99\n",
      "2  Staten Island         seeds                      tomato        85  13.99\n",
      "3  Staten Island  garden tools                        rake         4  13.99\n",
      "4  Staten Island  garden tools                 wheelbarrow         0  89.99\n",
      "5  Staten Island  garden tools                       spade        93  19.99\n",
      "6  Staten Island  pest_control               insect killer        74  12.99\n",
      "7  Staten Island  pest_control                 weed killer         8  23.99\n",
      "8  Staten Island       planter  20 inch terracotta planter         0  17.99\n",
      "9  Staten Island       planter      8 inch plastic planter        53   3.99\n"
     ]
    }
   ],
   "source": [
    "print(products)"
   ]
  },
  {
   "cell_type": "markdown",
   "metadata": {},
   "source": [
    "- Customers file"
   ]
  },
  {
   "cell_type": "code",
   "execution_count": 7,
   "metadata": {},
   "outputs": [],
   "source": [
    "customers = pd.read_csv('customer.csv')\n"
   ]
  },
  {
   "cell_type": "code",
   "execution_count": 8,
   "metadata": {},
   "outputs": [
    {
     "name": "stdout",
     "output_type": "stream",
     "text": [
      "   customer_id customer_name        address  phone_number\n",
      "0            1    John Smith   123 Main St.  212-123-4567\n",
      "1            2      Jane Doe  456 Park Ave.  949-867-5309\n",
      "2            3     Joe Schmo   798 Broadway  112-358-1321\n"
     ]
    }
   ],
   "source": [
    "print(customers)"
   ]
  },
  {
   "cell_type": "markdown",
   "metadata": {},
   "source": [
    "## Merges"
   ]
  },
  {
   "cell_type": "markdown",
   "metadata": {},
   "source": [
    "#### - Inner Merge"
   ]
  },
  {
   "cell_type": "markdown",
   "metadata": {},
   "source": [
    "- let's upload other csv files (sales, Targets)"
   ]
  },
  {
   "cell_type": "code",
   "execution_count": 9,
   "metadata": {},
   "outputs": [
    {
     "name": "stdout",
     "output_type": "stream",
     "text": [
      "      month  revenue\n",
      "0   January      300\n",
      "1  February      290\n",
      "2     March      310\n",
      "3     April      325\n",
      "4       May      475\n",
      "5      June      495\n",
      "      month  target\n",
      "0   January     310\n",
      "1  February     270\n",
      "2     March     300\n",
      "3     April     350\n",
      "4       May     475\n",
      "5      June     500\n"
     ]
    }
   ],
   "source": [
    "sales = pd.read_csv('sales.csv')\n",
    "print(sales)\n",
    "targets = pd.read_csv('target.csv')\n",
    "print(targets)"
   ]
  },
  {
   "cell_type": "markdown",
   "metadata": {},
   "source": [
    "- let's merge sales csv and target csv"
   ]
  },
  {
   "cell_type": "code",
   "execution_count": 10,
   "metadata": {},
   "outputs": [
    {
     "name": "stdout",
     "output_type": "stream",
     "text": [
      "      month  revenue  target\n",
      "0   January      300     310\n",
      "1  February      290     270\n",
      "2     March      310     300\n",
      "3     April      325     350\n",
      "4       May      475     475\n",
      "5      June      495     500\n"
     ]
    }
   ],
   "source": [
    "sales_vs_targets = pd.merge(sales, targets)\n",
    "print(sales_vs_targets)\n"
   ]
  },
  {
   "cell_type": "markdown",
   "metadata": {},
   "source": [
    "- let's see which months are more porifitibale for us"
   ]
  },
  {
   "cell_type": "code",
   "execution_count": 11,
   "metadata": {},
   "outputs": [
    {
     "name": "stdout",
     "output_type": "stream",
     "text": [
      "      month  revenue  target\n",
      "1  February      290     270\n",
      "2     March      310     300\n"
     ]
    }
   ],
   "source": [
    "crushing_it = sales_vs_targets[sales_vs_targets.revenue > sales_vs_targets.target]\n",
    "\n",
    "print(crushing_it)"
   ]
  },
  {
   "cell_type": "markdown",
   "metadata": {},
   "source": [
    "- let's load other sales data about men and women articles"
   ]
  },
  {
   "cell_type": "code",
   "execution_count": 12,
   "metadata": {},
   "outputs": [
    {
     "name": "stdout",
     "output_type": "stream",
     "text": [
      "      month  men  women\n",
      "0   January   30     35\n",
      "1  February   29     35\n",
      "2     March   31     29\n",
      "3     April   32     28\n",
      "4       May   47     50\n",
      "5      June   49     45\n"
     ]
    }
   ],
   "source": [
    "men_women = pd.read_csv(\"men_women_sales.csv\")\n",
    "print(men_women)"
   ]
  },
  {
   "cell_type": "markdown",
   "metadata": {},
   "source": [
    "- let's merge sales, target and gender sales in one big dataframe"
   ]
  },
  {
   "cell_type": "code",
   "execution_count": 13,
   "metadata": {},
   "outputs": [
    {
     "name": "stdout",
     "output_type": "stream",
     "text": [
      "      month  revenue  target  men  women\n",
      "0   January      300     310   30     35\n",
      "1  February      290     270   29     35\n",
      "2     March      310     300   31     29\n",
      "3     April      325     350   32     28\n",
      "4       May      475     475   47     50\n",
      "5      June      495     500   49     45\n"
     ]
    }
   ],
   "source": [
    "all_data = sales.merge(targets).merge(men_women)\n",
    "print(all_data)"
   ]
  },
  {
   "cell_type": "markdown",
   "metadata": {},
   "source": [
    "- let's select all the infos of our best revenue compared with women and men"
   ]
  },
  {
   "cell_type": "code",
   "execution_count": 14,
   "metadata": {},
   "outputs": [
    {
     "name": "stdout",
     "output_type": "stream",
     "text": [
      "      month  revenue  target  men  women\n",
      "1  February      290     270   29     35\n"
     ]
    }
   ],
   "source": [
    "results = all_data[(all_data.revenue > all_data.target) & (all_data.women > all_data.men) ]\n",
    "print(results)"
   ]
  },
  {
   "cell_type": "markdown",
   "metadata": {},
   "source": [
    "### Left Merge"
   ]
  },
  {
   "cell_type": "code",
   "execution_count": 15,
   "metadata": {},
   "outputs": [
    {
     "name": "stdout",
     "output_type": "stream",
     "text": [
      "   order_id  customer_id  product_id  quantity   timestamp       location  \\\n",
      "0         1            1           2         3  01/01/2017            NaN   \n",
      "1         2            2           2         3  01/01/2017            NaN   \n",
      "2         3            3           1         1  01/01/2017            NaN   \n",
      "3         4            4           3         2  01/02/2017            NaN   \n",
      "4         5            5           3         3  01/02/2017            NaN   \n",
      "5         6            6           1         4  01/03/2017  Staten Island   \n",
      "6         6            6           1         4  01/03/2017  Staten Island   \n",
      "7         7            7           1         1  02/02/2017            NaN   \n",
      "8         8            8           1         4  02/02/2017  Staten Island   \n",
      "9         8            8           1         4  02/02/2017  Staten Island   \n",
      "\n",
      "   product_type product_description  price  \n",
      "0           NaN                 NaN    NaN  \n",
      "1           NaN                 NaN    NaN  \n",
      "2           NaN                 NaN    NaN  \n",
      "3           NaN                 NaN    NaN  \n",
      "4           NaN                 NaN    NaN  \n",
      "5         seeds               daisy   6.99  \n",
      "6  garden tools                rake  13.99  \n",
      "7           NaN                 NaN    NaN  \n",
      "8         seeds               daisy   6.99  \n",
      "9  garden tools                rake  13.99  \n"
     ]
    }
   ],
   "source": [
    "\n",
    "left_sales_targets = pd.merge(orders, products, how=\"left\")\n",
    "print(left_sales_targets)"
   ]
  },
  {
   "cell_type": "code",
   "execution_count": 16,
   "metadata": {},
   "outputs": [
    {
     "name": "stdout",
     "output_type": "stream",
     "text": [
      "         location  product_type         product_description  quantity  price  \\\n",
      "0   Staten Island         seeds                       daisy         4   6.99   \n",
      "1   Staten Island         seeds                       daisy         4   6.99   \n",
      "2   Staten Island         seeds                  calla lily        46  19.99   \n",
      "3   Staten Island         seeds                      tomato        85  13.99   \n",
      "4   Staten Island  garden tools                        rake         4  13.99   \n",
      "5   Staten Island  garden tools                        rake         4  13.99   \n",
      "6   Staten Island  garden tools                 wheelbarrow         0  89.99   \n",
      "7   Staten Island  garden tools                       spade        93  19.99   \n",
      "8   Staten Island  pest_control               insect killer        74  12.99   \n",
      "9   Staten Island  pest_control                 weed killer         8  23.99   \n",
      "10  Staten Island       planter  20 inch terracotta planter         0  17.99   \n",
      "11  Staten Island       planter      8 inch plastic planter        53   3.99   \n",
      "\n",
      "    order_id  customer_id  product_id   timestamp  \n",
      "0        6.0          6.0         1.0  01/03/2017  \n",
      "1        8.0          8.0         1.0  02/02/2017  \n",
      "2        NaN          NaN         NaN         NaN  \n",
      "3        NaN          NaN         NaN         NaN  \n",
      "4        6.0          6.0         1.0  01/03/2017  \n",
      "5        8.0          8.0         1.0  02/02/2017  \n",
      "6        NaN          NaN         NaN         NaN  \n",
      "7        NaN          NaN         NaN         NaN  \n",
      "8        NaN          NaN         NaN         NaN  \n",
      "9        NaN          NaN         NaN         NaN  \n",
      "10       NaN          NaN         NaN         NaN  \n",
      "11       NaN          NaN         NaN         NaN  \n"
     ]
    }
   ],
   "source": [
    "left_sales_targets = pd.merge(products, orders, how=\"left\")\n",
    "print(left_sales_targets)"
   ]
  },
  {
   "cell_type": "markdown",
   "metadata": {},
   "source": [
    "### Right Merging"
   ]
  },
  {
   "cell_type": "code",
   "execution_count": 17,
   "metadata": {},
   "outputs": [
    {
     "name": "stdout",
     "output_type": "stream",
     "text": [
      "    order_id  customer_id  product_id  quantity   timestamp       location  \\\n",
      "0        6.0          6.0         1.0         4  01/03/2017  Staten Island   \n",
      "1        8.0          8.0         1.0         4  02/02/2017  Staten Island   \n",
      "2        NaN          NaN         NaN        46         NaN  Staten Island   \n",
      "3        NaN          NaN         NaN        85         NaN  Staten Island   \n",
      "4        6.0          6.0         1.0         4  01/03/2017  Staten Island   \n",
      "5        8.0          8.0         1.0         4  02/02/2017  Staten Island   \n",
      "6        NaN          NaN         NaN         0         NaN  Staten Island   \n",
      "7        NaN          NaN         NaN        93         NaN  Staten Island   \n",
      "8        NaN          NaN         NaN        74         NaN  Staten Island   \n",
      "9        NaN          NaN         NaN         8         NaN  Staten Island   \n",
      "10       NaN          NaN         NaN         0         NaN  Staten Island   \n",
      "11       NaN          NaN         NaN        53         NaN  Staten Island   \n",
      "\n",
      "    product_type         product_description  price  \n",
      "0          seeds                       daisy   6.99  \n",
      "1          seeds                       daisy   6.99  \n",
      "2          seeds                  calla lily  19.99  \n",
      "3          seeds                      tomato  13.99  \n",
      "4   garden tools                        rake  13.99  \n",
      "5   garden tools                        rake  13.99  \n",
      "6   garden tools                 wheelbarrow  89.99  \n",
      "7   garden tools                       spade  19.99  \n",
      "8   pest_control               insect killer  12.99  \n",
      "9   pest_control                 weed killer  23.99  \n",
      "10       planter  20 inch terracotta planter  17.99  \n",
      "11       planter      8 inch plastic planter   3.99  \n"
     ]
    }
   ],
   "source": [
    "left_sales_targets = pd.merge(orders, products, how=\"right\")\n",
    "print(left_sales_targets)"
   ]
  },
  {
   "cell_type": "code",
   "execution_count": 18,
   "metadata": {},
   "outputs": [
    {
     "name": "stdout",
     "output_type": "stream",
     "text": [
      "        location  product_type product_description  quantity  price  order_id  \\\n",
      "0            NaN           NaN                 NaN         3    NaN         1   \n",
      "1            NaN           NaN                 NaN         3    NaN         2   \n",
      "2            NaN           NaN                 NaN         1    NaN         3   \n",
      "3            NaN           NaN                 NaN         2    NaN         4   \n",
      "4            NaN           NaN                 NaN         3    NaN         5   \n",
      "5  Staten Island         seeds               daisy         4   6.99         6   \n",
      "6  Staten Island  garden tools                rake         4  13.99         6   \n",
      "7            NaN           NaN                 NaN         1    NaN         7   \n",
      "8  Staten Island         seeds               daisy         4   6.99         8   \n",
      "9  Staten Island  garden tools                rake         4  13.99         8   \n",
      "\n",
      "   customer_id  product_id   timestamp  \n",
      "0            1           2  01/01/2017  \n",
      "1            2           2  01/01/2017  \n",
      "2            3           1  01/01/2017  \n",
      "3            4           3  01/02/2017  \n",
      "4            5           3  01/02/2017  \n",
      "5            6           1  01/03/2017  \n",
      "6            6           1  01/03/2017  \n",
      "7            7           1  02/02/2017  \n",
      "8            8           1  02/02/2017  \n",
      "9            8           1  02/02/2017  \n"
     ]
    }
   ],
   "source": [
    "left_sales_targets = pd.merge(products, orders, how=\"right\")\n",
    "print(left_sales_targets)"
   ]
  }
 ],
 "metadata": {
  "kernelspec": {
   "display_name": "Python 3",
   "language": "python",
   "name": "python3"
  },
  "language_info": {
   "codemirror_mode": {
    "name": "ipython",
    "version": 3
   },
   "file_extension": ".py",
   "mimetype": "text/x-python",
   "name": "python",
   "nbconvert_exporter": "python",
   "pygments_lexer": "ipython3",
   "version": "3.12.0"
  }
 },
 "nbformat": 4,
 "nbformat_minor": 2
}
