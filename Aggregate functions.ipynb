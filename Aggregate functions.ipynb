{
 "cells": [
  {
   "cell_type": "markdown",
   "metadata": {},
   "source": [
    "### Calculating Column Statistics"
   ]
  },
  {
   "cell_type": "markdown",
   "metadata": {},
   "source": [
    "- Creating the shoe dataframe"
   ]
  },
  {
   "cell_type": "code",
   "execution_count": 2,
   "metadata": {},
   "outputs": [
    {
     "name": "stdout",
     "output_type": "stream",
     "text": [
      "       id first_name    last_name                          email  \\\n",
      "0   41874       Kyle         Peck           KylePeck71@gmail.com   \n",
      "1   31349  Elizabeth    Velazquez       EVelazquez1971@gmail.com   \n",
      "2   43416      Keith     Saunders               KS4047@gmail.com   \n",
      "3   56054       Ryan      Sweeney      RyanSweeney14@outlook.com   \n",
      "4   77402      Donna  Blankenship               DB3807@gmail.com   \n",
      "5   97148     Albert       Dillon        Albert.Dillon@gmail.com   \n",
      "6   19998     Judith       Hewitt       JudithHewitt98@gmail.com   \n",
      "7   83290      Kayla       Hardin         Kayla.Hardin@gmail.com   \n",
      "8   77867     Steven  Blankenship   Steven.Blankenship@gmail.com   \n",
      "9   54885      Carol   Mclaughlin               CM3415@gmail.com   \n",
      "10  35853      Jacob       Juarez        JJuarez1977@outlook.com   \n",
      "11  35916    Michael  Christensen  Michael.Christensen@gmail.com   \n",
      "12  39587     Dennis         Vega          Dennis.Vega@gmail.com   \n",
      "13  19234   Kathleen        Frost           KFrost1970@gmail.com   \n",
      "14  19733    Deborah         Lara         Deborah.Lara@gmail.com   \n",
      "15  30871    Abigail      Dillard         ADillard1994@gmail.com   \n",
      "16  11967      Maria    Whitfield      Maria.Whitfield@gmail.com   \n",
      "17  42371    Gregory         Rose            GRose1983@gmail.com   \n",
      "18  35693   Margaret        Tyler           MTyler1974@gmail.com   \n",
      "19  36694    Jessica         Cash            JCash1997@gmail.com   \n",
      "20  84933     Jeremy       Holder       JeremyHolder35@gmail.com   \n",
      "21  92283      Diana      Burgess         DBurgess1998@gmail.com   \n",
      "22  87240    William     Calderon    WilliamCalderon79@gmail.com   \n",
      "23  49817  Katherine       Jensen     Katherine.Jensen@gmail.com   \n",
      "24  18255    Tiffany     Bradshaw               TB6065@gmail.com   \n",
      "25  16026    William      Edwards               WE2364@gmail.com   \n",
      "26  39560     Teresa   Valenzuela      TValenzuela1973@gmail.com   \n",
      "\n",
      "       shoe_type shoe_material shoe_color  price  \n",
      "0   ballet flats  faux-leather      black  385.0  \n",
      "1          boots        fabric      brown  388.0  \n",
      "2        sandals       leather       navy  346.0  \n",
      "3        sandals        fabric      brown  344.0  \n",
      "4      stilettos        fabric      brown  289.0  \n",
      "5         wedges        fabric      brown  266.0  \n",
      "6      stilettos       leather      black  395.0  \n",
      "7      stilettos       leather      white  241.0  \n",
      "8         wedges       leather       navy  266.0  \n",
      "9   ballet flats  faux-leather      brown  440.0  \n",
      "10  ballet flats       leather        red  331.0  \n",
      "11  ballet flats  faux-leather        red  270.0  \n",
      "12  ballet flats  faux-leather      brown   91.0  \n",
      "13         clogs       leather      brown  319.0  \n",
      "14  ballet flats       leather      white  205.0  \n",
      "15  ballet flats  faux-leather      white  278.0  \n",
      "16        wedges        fabric      white  180.0  \n",
      "17         boots  faux-leather      brown  319.0  \n",
      "18  ballet flats        fabric      brown  481.0  \n",
      "19         clogs       leather        red  397.0  \n",
      "20        wedges       leather        red  347.0  \n",
      "21        wedges  faux-leather        red  324.0  \n",
      "22         clogs       leather        red  439.0  \n",
      "23         boots        fabric      black  171.0  \n",
      "24         boots  faux-leather       navy  284.0  \n",
      "25       sandals       leather      white  326.0  \n",
      "26         clogs       leather      brown  323.0  \n"
     ]
    }
   ],
   "source": [
    "import pandas as pd\n",
    "\n",
    "# Define the data as a list of tuples\n",
    "orders = [\n",
    "    (41874, 'Kyle', 'Peck', 'KylePeck71@gmail.com', 'ballet flats', 'faux-leather', 'black', 385.0),\n",
    "    (31349, 'Elizabeth', 'Velazquez', 'EVelazquez1971@gmail.com', 'boots', 'fabric', 'brown', 388.0),\n",
    "    (43416, 'Keith', 'Saunders', 'KS4047@gmail.com', 'sandals', 'leather', 'navy', 346.0),\n",
    "    (56054, 'Ryan', 'Sweeney', 'RyanSweeney14@outlook.com', 'sandals', 'fabric', 'brown', 344.0),\n",
    "    (77402, 'Donna', 'Blankenship', 'DB3807@gmail.com', 'stilettos', 'fabric', 'brown', 289.0),\n",
    "    (97148, 'Albert', 'Dillon', 'Albert.Dillon@gmail.com', 'wedges', 'fabric', 'brown', 266.0),\n",
    "    (19998, 'Judith', 'Hewitt', 'JudithHewitt98@gmail.com', 'stilettos', 'leather', 'black', 395.0),\n",
    "    (83290, 'Kayla', 'Hardin', 'Kayla.Hardin@gmail.com', 'stilettos', 'leather', 'white', 241.0),\n",
    "    (77867, 'Steven', 'Blankenship', 'Steven.Blankenship@gmail.com', 'wedges', 'leather', 'navy', 266.0),\n",
    "    (54885, 'Carol', 'Mclaughlin', 'CM3415@gmail.com', 'ballet flats', 'faux-leather', 'brown', 440.0),\n",
    "    (35853, 'Jacob', 'Juarez', 'JJuarez1977@outlook.com', 'ballet flats', 'leather', 'red', 331.0),\n",
    "    (35916, 'Michael', 'Christensen', 'Michael.Christensen@gmail.com', 'ballet flats', 'faux-leather', 'red', 270.0),\n",
    "    (39587, 'Dennis', 'Vega', 'Dennis.Vega@gmail.com', 'ballet flats', 'faux-leather', 'brown', 91.0),\n",
    "    (19234, 'Kathleen', 'Frost', 'KFrost1970@gmail.com', 'clogs', 'leather', 'brown', 319.0),\n",
    "    (19733, 'Deborah', 'Lara', 'Deborah.Lara@gmail.com', 'ballet flats', 'leather', 'white', 205.0),\n",
    "    (30871, 'Abigail', 'Dillard', 'ADillard1994@gmail.com', 'ballet flats', 'faux-leather', 'white', 278.0),\n",
    "    (11967, 'Maria', 'Whitfield', 'Maria.Whitfield@gmail.com', 'wedges', 'fabric', 'white', 180.0),\n",
    "    (42371, 'Gregory', 'Rose', 'GRose1983@gmail.com', 'boots', 'faux-leather', 'brown', 319.0),\n",
    "    (35693, 'Margaret', 'Tyler', 'MTyler1974@gmail.com', 'ballet flats', 'fabric', 'brown', 481.0),\n",
    "    (36694, 'Jessica', 'Cash', 'JCash1997@gmail.com', 'clogs', 'leather', 'red', 397.0),\n",
    "    (84933, 'Jeremy', 'Holder', 'JeremyHolder35@gmail.com', 'wedges', 'leather', 'red', 347.0),\n",
    "    (92283, 'Diana', 'Burgess', 'DBurgess1998@gmail.com', 'wedges', 'faux-leather', 'red', 324.0),\n",
    "    (87240, 'William', 'Calderon', 'WilliamCalderon79@gmail.com', 'clogs', 'leather', 'red', 439.0),\n",
    "    (49817, 'Katherine', 'Jensen', 'Katherine.Jensen@gmail.com', 'boots', 'fabric', 'black', 171.0),\n",
    "    (18255, 'Tiffany', 'Bradshaw', 'TB6065@gmail.com', 'boots', 'faux-leather', 'navy', 284.0),\n",
    "    (16026, 'William', 'Edwards', 'WE2364@gmail.com', 'sandals', 'leather', 'white', 326.0),\n",
    "    (39560, 'Teresa', 'Valenzuela', 'TValenzuela1973@gmail.com', 'clogs', 'leather', 'brown', 323.0)\n",
    "]\n",
    "\n",
    "# Define the column names\n",
    "columns = ['id', 'first_name', 'last_name', 'email', 'shoe_type', 'shoe_material', 'shoe_color', 'price']\n",
    "\n",
    "# Creating DataFrame\n",
    "df = pd.DataFrame(orders, columns=columns)\n",
    "\n",
    "# Displaying DataFrame\n",
    "print(df)\n"
   ]
  },
  {
   "cell_type": "markdown",
   "metadata": {},
   "source": [
    "- lets visualize the top 10 orders"
   ]
  },
  {
   "cell_type": "code",
   "execution_count": 3,
   "metadata": {},
   "outputs": [
    {
     "name": "stdout",
     "output_type": "stream",
     "text": [
      "      id first_name    last_name                         email     shoe_type  \\\n",
      "0  41874       Kyle         Peck          KylePeck71@gmail.com  ballet flats   \n",
      "1  31349  Elizabeth    Velazquez      EVelazquez1971@gmail.com         boots   \n",
      "2  43416      Keith     Saunders              KS4047@gmail.com       sandals   \n",
      "3  56054       Ryan      Sweeney     RyanSweeney14@outlook.com       sandals   \n",
      "4  77402      Donna  Blankenship              DB3807@gmail.com     stilettos   \n",
      "5  97148     Albert       Dillon       Albert.Dillon@gmail.com        wedges   \n",
      "6  19998     Judith       Hewitt      JudithHewitt98@gmail.com     stilettos   \n",
      "7  83290      Kayla       Hardin        Kayla.Hardin@gmail.com     stilettos   \n",
      "8  77867     Steven  Blankenship  Steven.Blankenship@gmail.com        wedges   \n",
      "9  54885      Carol   Mclaughlin              CM3415@gmail.com  ballet flats   \n",
      "\n",
      "  shoe_material shoe_color  price  \n",
      "0  faux-leather      black  385.0  \n",
      "1        fabric      brown  388.0  \n",
      "2       leather       navy  346.0  \n",
      "3        fabric      brown  344.0  \n",
      "4        fabric      brown  289.0  \n",
      "5        fabric      brown  266.0  \n",
      "6       leather      black  395.0  \n",
      "7       leather      white  241.0  \n",
      "8       leather       navy  266.0  \n",
      "9  faux-leather      brown  440.0  \n"
     ]
    }
   ],
   "source": [
    "print(df.head(10))\n"
   ]
  },
  {
   "cell_type": "markdown",
   "metadata": {},
   "source": [
    "- Our finance department wants to know the price of the most expensive pair of shoes purchased"
   ]
  },
  {
   "cell_type": "code",
   "execution_count": 4,
   "metadata": {},
   "outputs": [
    {
     "name": "stdout",
     "output_type": "stream",
     "text": [
      "the most expensive item price is 481.0\n"
     ]
    }
   ],
   "source": [
    "most_expensive = df.price.max()\n",
    "print(f\"the most expensive item price is {most_expensive}\")"
   ]
  },
  {
   "cell_type": "markdown",
   "metadata": {},
   "source": [
    "- Our fashion department wants to know how many different colors of shoes we are selling."
   ]
  },
  {
   "cell_type": "code",
   "execution_count": 5,
   "metadata": {},
   "outputs": [
    {
     "name": "stdout",
     "output_type": "stream",
     "text": [
      "5\n"
     ]
    }
   ],
   "source": [
    "num_colors = df[\"shoe_color\"].nunique()\n",
    "print(num_colors)"
   ]
  },
  {
   "cell_type": "markdown",
   "metadata": {},
   "source": [
    "- lets find the highest shoe_price per each shoe type"
   ]
  },
  {
   "cell_type": "code",
   "execution_count": 6,
   "metadata": {},
   "outputs": [
    {
     "name": "stdout",
     "output_type": "stream",
     "text": [
      "shoe_type\n",
      "ballet flats    481.0\n",
      "boots           388.0\n",
      "clogs           439.0\n",
      "sandals         346.0\n",
      "stilettos       395.0\n",
      "wedges          347.0\n",
      "Name: price, dtype: float64\n"
     ]
    }
   ],
   "source": [
    "pricey_shoes = df.groupby(\"shoe_type\").price.max()\n",
    "print(pricey_shoes)"
   ]
  },
  {
   "cell_type": "markdown",
   "metadata": {},
   "source": [
    "- type of our table"
   ]
  },
  {
   "cell_type": "code",
   "execution_count": 7,
   "metadata": {},
   "outputs": [
    {
     "name": "stdout",
     "output_type": "stream",
     "text": [
      "<class 'pandas.core.series.Series'>\n"
     ]
    }
   ],
   "source": [
    "print(type(pricey_shoes))"
   ]
  }
 ],
 "metadata": {
  "kernelspec": {
   "display_name": "Python 3",
   "language": "python",
   "name": "python3"
  },
  "language_info": {
   "codemirror_mode": {
    "name": "ipython",
    "version": 3
   },
   "file_extension": ".py",
   "mimetype": "text/x-python",
   "name": "python",
   "nbconvert_exporter": "python",
   "pygments_lexer": "ipython3",
   "version": "3.12.0"
  }
 },
 "nbformat": 4,
 "nbformat_minor": 2
}
