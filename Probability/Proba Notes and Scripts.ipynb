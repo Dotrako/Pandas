{
 "cells": [
  {
   "cell_type": "markdown",
   "metadata": {},
   "source": [
    "### Coin Flip Experiment Analysis"
   ]
  },
  {
   "cell_type": "code",
   "execution_count": null,
   "metadata": {},
   "outputs": [],
   "source": [
    "import matplotlib.pyplot as plt\n",
    "import numpy as np\n",
    "\n",
    "\n",
    "def coin_flip_experiment():\n",
    "# defining our two coins as lists\n",
    "    coin1 = ['Heads', 'Tails']\n",
    "    coin2 = ['Heads', 'Tails']\n",
    "\n",
    "# \"flipping\" both coins randomly\n",
    "    coin1_result = np.random.choice(coin1)\n",
    "    coin2_result = np.random.choice(coin2)\n",
    "\n",
    " # checking if both flips are heads\n",
    "    if coin1_result == 'Heads' and coin2_result == 'Heads':\n",
    "        return 1\n",
    "    else:\n",
    "        return 0\n",
    "\n",
    "# how many times we run the experiment\n",
    "num_trials = 5\n",
    "prop = []\n",
    "flips = []\n",
    "\n",
    "# keep track of the number of times heads pops up twice\n",
    "two_heads_counter = 0\n",
    "\n",
    "# perform the experiment five times\n",
    "for flip in range(num_trials):\n",
    " # if both coins are heads add 1 to the counter\n",
    " two_heads_counter += coin_flip_experiment()\n",
    " # keep track of the proportion of two heads at each flip\n",
    " prop.append(two_heads_counter/(flip+1))\n",
    " # keep a list for number of flips\n",
    " flips.append(flip+1)\n",
    "\n",
    "# plot all flips and proportion of two heads\n",
    "plt.plot(flips, prop, label='Experimental Probability')\n",
    "plt.xlabel('Number of Flips')\n",
    "plt.ylabel('Proportion of Two Heads')\n",
    "\n",
    "plt.hlines(0.25, 0, num_trials, colors='orange', label='True Probability')\n",
    "plt.legend()\n",
    "plt.show()"
   ]
  },
  {
   "cell_type": "markdown",
   "metadata": {},
   "source": [
    "## Addition Rule"
   ]
  },
  {
   "cell_type": "code",
   "execution_count": null,
   "metadata": {},
   "outputs": [],
   "source": [
    "def prob_a_or_b(a, b, all_possible_outcomes):\n",
    "  # probability of event a\n",
    "  prob_a = len(a)/len(all_possible_outcomes)\n",
    "\t\n",
    "\t# probability of event b\n",
    "  prob_b = len(b)/len(all_possible_outcomes)\n",
    "\t\n",
    "\t# intersection of events a and b\n",
    "  inter = a.intersection(b)\n",
    "\t\n",
    "\t# probability of intersection of events a and b\n",
    "  prob_inter = len(inter)/len(all_possible_outcomes)\n",
    "\t\n",
    "\t# add return statement here\n",
    "  return prob_a + prob_b - prob_inter\n",
    "\n",
    "# rolling a die once and getting an even number or an odd number\n",
    "evens = {2, 4, 6}\n",
    "odds = {1, 3, 5}\n",
    "all_possible_rolls = {1, 2, 3, 4, 5, 6}\n",
    "\n",
    "# call function here first\n",
    "print(prob_a_or_b(evens, odds, all_possible_rolls))\n",
    "\n",
    "# rolling a die once and getting an odd number or a number greater than 2\n",
    "odds = {1, 3, 5}\n",
    "greater_than_two = {3, 4, 5, 6}\n",
    "all_possible_rolls = {1, 2, 3, 4, 5, 6}\n",
    "\n",
    "# call function here second\n",
    "print(all_possible_rolls)\n",
    "print(prob_a_or_b(evens, greater_than_two, all_possible_rolls))\n",
    "\n",
    "# selecting a diamond card or a face card from a standard deck of cards\n",
    "diamond_cards = {'ace_diamond', '2_diamond', '3_diamond', '4_diamond', '5_diamond', '6_diamond', '7_diamond', '8_diamond', '9_diamond', '10_diamond', 'jack_diamond', 'queen_diamond', 'king_diamond'}\n",
    "face_cards = {'jack_diamond', 'jack_spade', 'jack_heart', 'jack_club', 'queen_diamond', 'queen_spade', 'queen_heart', 'queen_club', 'king_diamond', 'king_spade', 'king_heart', 'king_club'}\n",
    "# all cards in a deck representing the entire sample space\n",
    "all_possible_cards = {'ace_diamond', '2_diamond', '3_diamond', '4_diamond', '5_diamond', '6_diamond', '7_diamond', '8_diamond', '9_diamond', '10_diamond', 'jack_diamond', 'queen_diamond', 'king_diamond', 'ace_heart', '2_heart', '3_heart', '4_heart', '5_heart', '6_heart', '7_heart', '8_heart', '9_heart', '10_heart', 'jack_heart', 'queen_heart', 'king_heart', 'ace_spade', '2_spade', '3_spade', '4_spade', '5_spade', '6_spade', '7_spade', '8_spade', '9_spade', '10_spade', 'jack_spade', 'queen_spade', 'king_spade', 'ace_club', '2_club', '3_club', '4_club', '5_club', '6_club', '7_club', '8_club', '9_club', '10_club', 'jack_club', 'queen_club', 'king_club'}\n",
    "\n",
    "# call function here third\n",
    "print(prob_a_or_b(diamond_cards, face_cards, all_possible_cards))"
   ]
  },
  {
   "cell_type": "markdown",
   "metadata": {},
   "source": [
    "### Random Variables"
   ]
  },
  {
   "cell_type": "code",
   "execution_count": null,
   "metadata": {},
   "outputs": [],
   "source": [
    "import numpy as np  \n",
    "  \n",
    "# 7 is not included in the range function  \n",
    "die_6 = range(1, 7)  \n",
    "  \n",
    "rolls = np.random.choice(die_6, size = 2, replace = True)  \n",
    "  \n",
    "print(rolls)"
   ]
  },
  {
   "cell_type": "code",
   "execution_count": null,
   "metadata": {},
   "outputs": [],
   "source": [
    "import numpy as np\n",
    "\n",
    "# create 6 sided \"die\"\n",
    "die_6 = range(1, 7)\n",
    "\n",
    "# set number of rolls\n",
    "num_rolls = 10\n",
    "\n",
    "# roll the \"die\" the set amount of times\n",
    "results_1 = np.random.choice(die_6, size = num_rolls, replace = True)\n",
    "print(results_1)\n",
    "\n",
    "# create 12-sided \"die\"\n",
    "die_12 = range (1, 13)\n",
    "\n",
    "# roll the 12-sided \"die\" 10 times\n",
    "results_2 = np.random.choice(die_12, size = num_rolls, replace=True)"
   ]
  }
 ],
 "metadata": {
  "kernelspec": {
   "display_name": "Python 3",
   "language": "python",
   "name": "python3"
  },
  "language_info": {
   "codemirror_mode": {
    "name": "ipython",
    "version": 3
   },
   "file_extension": ".py",
   "mimetype": "text/x-python",
   "name": "python",
   "nbconvert_exporter": "python",
   "pygments_lexer": "ipython3",
   "version": "3.12.0"
  }
 },
 "nbformat": 4,
 "nbformat_minor": 2
}
